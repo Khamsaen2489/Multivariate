{
  "nbformat": 4,
  "nbformat_minor": 0,
  "metadata": {
    "colab": {
      "name": "Chapter 6 Cluster Analysis.ipynb",
      "provenance": [],
      "authorship_tag": "ABX9TyMJm9sfIRc/XgZAF97DGuLn",
      "include_colab_link": true
    },
    "kernelspec": {
      "name": "python3",
      "display_name": "Python 3"
    },
    "language_info": {
      "name": "python"
    }
  },
  "cells": [
    {
      "cell_type": "markdown",
      "metadata": {
        "id": "view-in-github",
        "colab_type": "text"
      },
      "source": [
        "<a href=\"https://colab.research.google.com/github/Khamsaen2489/Multivariate/blob/main/Chapter_6_Cluster_Analysis.ipynb\" target=\"_parent\"><img src=\"https://colab.research.google.com/assets/colab-badge.svg\" alt=\"Open In Colab\"/></a>"
      ]
    },
    {
      "cell_type": "markdown",
      "metadata": {
        "id": "3lOvk4NG-PEo"
      },
      "source": [
        ""
      ]
    },
    {
      "cell_type": "markdown",
      "metadata": {
        "id": "EPSc4faF81za"
      },
      "source": [
        "## **Quiz 6 ทำ PCA ข้อมูล Examp_df_drop แล้ววาดกราฟ Scatter plot โดยใส่สีตามผลการทำ Kmeans clustering แล้วนำมาเทียบกับกราฟ PCA - scatter**"
      ]
    },
    {
      "cell_type": "code",
      "metadata": {
        "id": "UuZN6PJmzrh4"
      },
      "source": [
        ""
      ],
      "execution_count": null,
      "outputs": []
    }
  ]
}