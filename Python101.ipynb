{
  "nbformat": 4,
  "nbformat_minor": 0,
  "metadata": {
    "colab": {
      "name": "Python101.ipynb",
      "provenance": [],
      "authorship_tag": "ABX9TyP9/FKLdZD4OGOTHuSRMNMX",
      "include_colab_link": true
    },
    "kernelspec": {
      "name": "python3",
      "display_name": "Python 3"
    }
  },
  "cells": [
    {
      "cell_type": "markdown",
      "metadata": {
        "id": "view-in-github",
        "colab_type": "text"
      },
      "source": [
        "<a href=\"https://colab.research.google.com/github/Khamsaen2489/Multivariate/blob/main/Python101.ipynb\" target=\"_parent\"><img src=\"https://colab.research.google.com/assets/colab-badge.svg\" alt=\"Open In Colab\"/></a>"
      ]
    },
    {
      "cell_type": "markdown",
      "metadata": {
        "id": "Zv7vkv2KNxTo"
      },
      "source": [
        "1. ตั้งชื่อให้เป็นภาษา ENG\r\n",
        "2.ไม่เว้นวรรค\r\n",
        "3.ใช้ตัวเลขได้แต่ห้ามให้ตัวเลขนำหน้าชื่อ\r\n",
        "4.ตัวเล็กกับตัวใหญ่ไม่เหมือนกัน"
      ]
    },
    {
      "cell_type": "markdown",
      "metadata": {
        "id": "dC-ica7UOhS5"
      },
      "source": [
        "### ชนิดของตัวแปล\r\n",
        " "
      ]
    },
    {
      "cell_type": "markdown",
      "metadata": {
        "id": "Fx3QKY5dPmb4"
      },
      "source": [
        "จำนวนเต็ม (integer, int)"
      ]
    },
    {
      "cell_type": "code",
      "metadata": {
        "colab": {
          "base_uri": "https://localhost:8080/"
        },
        "id": "dRn8sBYMO46Z",
        "outputId": "51fa8b90-a35b-423c-aa4e-0fe63dd7c720"
      },
      "source": [
        "DEW = 56\r\n",
        "print(DEW)"
      ],
      "execution_count": 6,
      "outputs": [
        {
          "output_type": "stream",
          "text": [
            "56\n"
          ],
          "name": "stdout"
        }
      ]
    },
    {
      "cell_type": "markdown",
      "metadata": {
        "id": "joVIjlVHPG2n"
      },
      "source": [
        "จำนวนจริง (float) \r\n"
      ]
    },
    {
      "cell_type": "code",
      "metadata": {
        "colab": {
          "base_uri": "https://localhost:8080/"
        },
        "id": "trgpIBzRPRp_",
        "outputId": "3e39f033-d0c6-4b51-a912-e94e32f27b44"
      },
      "source": [
        "DEW = 20.\r\n",
        "print(DEW)"
      ],
      "execution_count": 8,
      "outputs": [
        {
          "output_type": "stream",
          "text": [
            "20.0\n"
          ],
          "name": "stdout"
        }
      ]
    },
    {
      "cell_type": "markdown",
      "metadata": {
        "id": "ohpzNrV6PiLw"
      },
      "source": [
        "###ตัวอักษร-ข้อความ (character, texs, string)"
      ]
    },
    {
      "cell_type": "markdown",
      "metadata": {
        "id": "sVMzWRSXRcmh"
      },
      "source": [
        "### การเปลี่ยนแปลงชนิดของตัวแปร "
      ]
    },
    {
      "cell_type": "code",
      "metadata": {
        "id": "YUk99bfqRuxg"
      },
      "source": [
        ""
      ],
      "execution_count": null,
      "outputs": []
    },
    {
      "cell_type": "markdown",
      "metadata": {
        "id": "Og7TBcocSK2P"
      },
      "source": [
        "###  การดำเนินการ Operation (Operation)"
      ]
    },
    {
      "cell_type": "markdown",
      "metadata": {
        "id": "dlH_jAeCaj4o"
      },
      "source": [
        "จบ 5 มค"
      ]
    }
  ]
}