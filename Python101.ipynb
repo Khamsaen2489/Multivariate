{
  "nbformat": 4,
  "nbformat_minor": 0,
  "metadata": {
    "colab": {
      "name": "Python101.ipynb",
      "provenance": [],
      "authorship_tag": "ABX9TyNBz8eRhosP9RGo+flK+QiL",
      "include_colab_link": true
    },
    "kernelspec": {
      "name": "python3",
      "display_name": "Python 3"
    }
  },
  "cells": [
    {
      "cell_type": "markdown",
      "metadata": {
        "id": "view-in-github",
        "colab_type": "text"
      },
      "source": [
        "<a href=\"https://colab.research.google.com/github/Khamsaen2489/Multivariate/blob/main/Python101.ipynb\" target=\"_parent\"><img src=\"https://colab.research.google.com/assets/colab-badge.svg\" alt=\"Open In Colab\"/></a>"
      ]
    },
    {
      "cell_type": "markdown",
      "metadata": {
        "id": "Zv7vkv2KNxTo"
      },
      "source": [
        "1. ตั้งชื่อให้เป็นภาษา ENG\r\n",
        "2.ไม่เว้นวรรค\r\n",
        "3.ใช้ตัวเลขได้แต่ห้ามให้ตัวเลขนำหน้าชื่อ\r\n",
        "4.ตัวเล็กกับตัวใหญ่ไม่เหมือนกัน"
      ]
    },
    {
      "cell_type": "markdown",
      "metadata": {
        "id": "ea12AHYWjF0K"
      },
      "source": [
        "### มี Output 2 Mode : ออกมาที่หน้าจอ และ เข้าไปเก็บในตัวแปร\r\n"
      ]
    },
    {
      "cell_type": "code",
      "metadata": {
        "colab": {
          "base_uri": "https://localhost:8080/"
        },
        "id": "CHqbDzjMjsqx",
        "outputId": "bd5b0488-7b92-4428-b623-658267bdfd93"
      },
      "source": [
        "3.14159 "
      ],
      "execution_count": null,
      "outputs": [
        {
          "output_type": "execute_result",
          "data": {
            "text/plain": [
              "3.14159"
            ]
          },
          "metadata": {
            "tags": []
          },
          "execution_count": 1
        }
      ]
    },
    {
      "cell_type": "code",
      "metadata": {
        "colab": {
          "base_uri": "https://localhost:8080/"
        },
        "id": "0Z8Lk4Z7j_wI",
        "outputId": "b798578a-6d57-4bc7-c9cd-d0f6580227b7"
      },
      "source": [
        "OP = 3.14159\r\n",
        "print(OP)"
      ],
      "execution_count": null,
      "outputs": [
        {
          "output_type": "stream",
          "text": [
            "3.14159\n"
          ],
          "name": "stdout"
        }
      ]
    },
    {
      "cell_type": "markdown",
      "metadata": {
        "id": "dC-ica7UOhS5"
      },
      "source": [
        "### ชนิดของตัวแปล\r\n",
        " "
      ]
    },
    {
      "cell_type": "markdown",
      "metadata": {
        "id": "Fx3QKY5dPmb4"
      },
      "source": [
        "จำนวนเต็ม (integer, int)"
      ]
    },
    {
      "cell_type": "code",
      "metadata": {
        "colab": {
          "base_uri": "https://localhost:8080/"
        },
        "id": "KjRfH4KBkRTK",
        "outputId": "8a31b22e-8b1e-4111-9e76-494382d4e65f"
      },
      "source": [
        "A = 248\r\n",
        "print(A)"
      ],
      "execution_count": 13,
      "outputs": [
        {
          "output_type": "stream",
          "text": [
            "248\n"
          ],
          "name": "stdout"
        }
      ]
    },
    {
      "cell_type": "markdown",
      "metadata": {
        "id": "joVIjlVHPG2n"
      },
      "source": [
        "จำนวนจริง (float) \r\n"
      ]
    },
    {
      "cell_type": "code",
      "metadata": {
        "colab": {
          "base_uri": "https://localhost:8080/"
        },
        "id": "34JN6YnAkepH",
        "outputId": "d19b91c0-7b00-433e-a53f-06dcd0b86022"
      },
      "source": [
        "B = 279.\r\n",
        "print(B)"
      ],
      "execution_count": 14,
      "outputs": [
        {
          "output_type": "stream",
          "text": [
            "279.0\n"
          ],
          "name": "stdout"
        }
      ]
    },
    {
      "cell_type": "markdown",
      "metadata": {
        "id": "ohpzNrV6PiLw"
      },
      "source": [
        "###ตัวอักษร-ข้อความ (character, text, string)\r\n"
      ]
    },
    {
      "cell_type": "code",
      "metadata": {
        "colab": {
          "base_uri": "https://localhost:8080/"
        },
        "id": "khQmPkW6kuaw",
        "outputId": "6fb61006-bf92-4147-cd63-612f9876d3c8"
      },
      "source": [
        "tt = '765'  #เราใช้ Single quote หรือ double quote ล้อมตัวหนังสือระบุว่าเป็น charcter-string\r\n",
        "print(tt)"
      ],
      "execution_count": 11,
      "outputs": [
        {
          "output_type": "stream",
          "text": [
            "98765\n"
          ],
          "name": "stdout"
        }
      ]
    },
    {
      "cell_type": "code",
      "metadata": {
        "colab": {
          "base_uri": "https://localhost:8080/"
        },
        "id": "1UeRSWuXmT6A",
        "outputId": "61f10bc6-e6fc-45e7-95d1-ab1d5acff818"
      },
      "source": [
        "A + B \r\n"
      ],
      "execution_count": 15,
      "outputs": [
        {
          "output_type": "execute_result",
          "data": {
            "text/plain": [
              "527.0"
            ]
          },
          "metadata": {
            "tags": []
          },
          "execution_count": 15
        }
      ]
    },
    {
      "cell_type": "code",
      "metadata": {
        "colab": {
          "base_uri": "https://localhost:8080/"
        },
        "id": "T2I1dymrfWBm",
        "outputId": "9265eb80-2355-45dc-fce0-e49649a524d3"
      },
      "source": [
        "RE = 'คำแสน'\r\n",
        "print(RE)"
      ],
      "execution_count": 1,
      "outputs": [
        {
          "output_type": "stream",
          "text": [
            "คำแสน\n"
          ],
          "name": "stdout"
        }
      ]
    },
    {
      "cell_type": "markdown",
      "metadata": {
        "id": "sVMzWRSXRcmh"
      },
      "source": [
        "### การเปลี่ยนแปลงชนิดของตัวแปร "
      ]
    },
    {
      "cell_type": "code",
      "metadata": {
        "id": "YUk99bfqRuxg",
        "colab": {
          "base_uri": "https://localhost:8080/"
        },
        "outputId": "2fd158fb-7f8a-4585-e1ab-016bf135687e"
      },
      "source": [
        "A + int(tt)"
      ],
      "execution_count": 18,
      "outputs": [
        {
          "output_type": "execute_result",
          "data": {
            "text/plain": [
              "99013"
            ]
          },
          "metadata": {
            "tags": []
          },
          "execution_count": 18
        }
      ]
    },
    {
      "cell_type": "code",
      "metadata": {
        "colab": {
          "base_uri": "https://localhost:8080/",
          "height": 130
        },
        "id": "MXvOAe3Qj2I0",
        "outputId": "60d3672d-1710-43a4-c142-5088e2c1606a"
      },
      "source": [
        "๊A + float(tt)"
      ],
      "execution_count": 19,
      "outputs": [
        {
          "output_type": "error",
          "ename": "SyntaxError",
          "evalue": "ignored",
          "traceback": [
            "\u001b[0;36m  File \u001b[0;32m\"<ipython-input-19-a7a78f3b59f6>\"\u001b[0;36m, line \u001b[0;32m1\u001b[0m\n\u001b[0;31m    ๊A + float(tt)\u001b[0m\n\u001b[0m     ^\u001b[0m\n\u001b[0;31mSyntaxError\u001b[0m\u001b[0;31m:\u001b[0m invalid character in identifier\n"
          ]
        }
      ]
    },
    {
      "cell_type": "code",
      "metadata": {
        "colab": {
          "base_uri": "https://localhost:8080/",
          "height": 35
        },
        "id": "9iaQHFuOliac",
        "outputId": "b70d1580-264c-4343-8828-33b95d27aa29"
      },
      "source": [
        "str(tt)"
      ],
      "execution_count": 20,
      "outputs": [
        {
          "output_type": "execute_result",
          "data": {
            "application/vnd.google.colaboratory.intrinsic+json": {
              "type": "string"
            },
            "text/plain": [
              "'98765'"
            ]
          },
          "metadata": {
            "tags": []
          },
          "execution_count": 20
        }
      ]
    },
    {
      "cell_type": "markdown",
      "metadata": {
        "id": "Og7TBcocSK2P"
      },
      "source": [
        "### การดำเนินการ Operation (Operators +,-,*,/,%)"
      ]
    },
    {
      "cell_type": "code",
      "metadata": {
        "colab": {
          "base_uri": "https://localhost:8080/"
        },
        "id": "GUK3NnDwlumb",
        "outputId": "e7af66cd-8060-4cda-f071-05fd19437ab3"
      },
      "source": [
        "A + B "
      ],
      "execution_count": 21,
      "outputs": [
        {
          "output_type": "execute_result",
          "data": {
            "text/plain": [
              "527.0"
            ]
          },
          "metadata": {
            "tags": []
          },
          "execution_count": 21
        }
      ]
    },
    {
      "cell_type": "code",
      "metadata": {
        "colab": {
          "base_uri": "https://localhost:8080/"
        },
        "id": "NB41zRTql0Rz",
        "outputId": "4d28bad2-aee4-451e-dd5a-817ed543c623"
      },
      "source": [
        "A- B"
      ],
      "execution_count": 22,
      "outputs": [
        {
          "output_type": "execute_result",
          "data": {
            "text/plain": [
              "-31.0"
            ]
          },
          "metadata": {
            "tags": []
          },
          "execution_count": 22
        }
      ]
    },
    {
      "cell_type": "code",
      "metadata": {
        "colab": {
          "base_uri": "https://localhost:8080/"
        },
        "id": "2rRvUMA2l62z",
        "outputId": "9710d7ad-8daa-4b8f-fabd-115cd332feee"
      },
      "source": [
        "A  / B"
      ],
      "execution_count": 23,
      "outputs": [
        {
          "output_type": "execute_result",
          "data": {
            "text/plain": [
              "0.8888888888888888"
            ]
          },
          "metadata": {
            "tags": []
          },
          "execution_count": 23
        }
      ]
    },
    {
      "cell_type": "code",
      "metadata": {
        "colab": {
          "base_uri": "https://localhost:8080/"
        },
        "id": "9dYXm7XvmD-8",
        "outputId": "a2f3c16f-3d02-40f1-b1aa-45b4977e996a"
      },
      "source": [
        "UU = A*B\r\n",
        "print(UU)"
      ],
      "execution_count": 25,
      "outputs": [
        {
          "output_type": "stream",
          "text": [
            "69192.0\n"
          ],
          "name": "stdout"
        }
      ]
    },
    {
      "cell_type": "code",
      "metadata": {
        "colab": {
          "base_uri": "https://localhost:8080/"
        },
        "id": "O8b_CQuamRyr",
        "outputId": "7efdd540-ae7f-449d-b7f7-05c1aae3cdb4"
      },
      "source": [
        "UU + int(tt)"
      ],
      "execution_count": 26,
      "outputs": [
        {
          "output_type": "execute_result",
          "data": {
            "text/plain": [
              "167957.0"
            ]
          },
          "metadata": {
            "tags": []
          },
          "execution_count": 26
        }
      ]
    },
    {
      "cell_type": "markdown",
      "metadata": {
        "id": "dlH_jAeCaj4o"
      },
      "source": [
        "จบ 5 ม.ค. 2564\r\n"
      ]
    }
  ]
}