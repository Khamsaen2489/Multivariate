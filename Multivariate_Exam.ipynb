{
  "nbformat": 4,
  "nbformat_minor": 0,
  "metadata": {
    "colab": {
      "name": "Multivariate Exam.ipynb",
      "provenance": [],
      "include_colab_link": true
    },
    "kernelspec": {
      "name": "python3",
      "display_name": "Python 3"
    },
    "language_info": {
      "name": "python"
    }
  },
  "cells": [
    {
      "cell_type": "markdown",
      "metadata": {
        "id": "view-in-github",
        "colab_type": "text"
      },
      "source": [
        "<a href=\"https://colab.research.google.com/github/Khamsaen2489/Multivariate/blob/main/Multivariate_Exam.ipynb\" target=\"_parent\"><img src=\"https://colab.research.google.com/assets/colab-badge.svg\" alt=\"Open In Colab\"/></a>"
      ]
    },
    {
      "cell_type": "markdown",
      "metadata": {
        "id": "JZxiNADfaDtv"
      },
      "source": [
        "ให้นักศึกษาทำข้อสอบใน Colab Notebook นี้โดยกรอกข้อมูลของตัวเองใน cell ที่ 2 แล้วรัน cell ที่ 1 - 5 และเริ่มทำข้อสอบใน cell ที่ 6 เป็นต้นไป\n",
        "\n",
        "โดยโจทย์คือ\n",
        "1. ข้อมูลโจทย์ อยู่ใน ตัวแปร ```Data```\n",
        "2. ทำ clustering แล้วทำ visualize ข้อมูลแบบ 2 มิติ\n",
        "3. ลด Dimension ของข้อมูลเหลือ 2 มิติ แล้วทำ clustering แล้ว visualize ข้อมูลแบบ 2 มิติ\n",
        "4. เปรียบเทียบความแตกต่างของผลข้อ 2. กับ ข้อ 3.\n",
        "5. เขียน comments อธิบายทุกขั้นตอน\n",
        "6. อัด video อธิบาย code ทุกๆขั้นตอนรวมถึงผลแล้วอัพลง youtube ในรูปแบบ unlist \n",
        "7. commit โดยใช้ชื่อ commit เป็น link youtube ที่อธิบาย code ในข้อ 6.\n",
        "\n",
        "กำหนดส่งวันที่ 2 พฤษภาคม 2564 (โดยให้มากรอกวันที่ commit ครั้งสุดท้ายใน sheet: https://docs.google.com/spreadsheets/d/1_qJwLDJVtOW1HxBcf_FHVc6UT4J_SOonuR6o3EEnVzw/edit?usp=sharing ช่อง Final)"
      ]
    },
    {
      "cell_type": "code",
      "metadata": {
        "id": "cWl2x1bPGtQl"
      },
      "source": [
        "from sklearn.datasets import make_blobs\n",
        "import random,math\n",
        "import numpy as np\n",
        "import pandas"
      ],
      "execution_count": 37,
      "outputs": []
    },
    {
      "cell_type": "code",
      "metadata": {
        "id": "gZfzuiHsZksh"
      },
      "source": [
        "Name = 'คำแสน แก้วพิภพ'\n",
        "ID = '6230207618'"
      ],
      "execution_count": 38,
      "outputs": []
    },
    {
      "cell_type": "code",
      "metadata": {
        "id": "8hFQXkF5aAiA"
      },
      "source": [
        "def DataGenerator(name,id):\n",
        "    random.seed(int(id[3:6]))\n",
        "    numfeat = random.randint(20,30)\n",
        "    ct = random.randint(len(name)-6,len(name))\n",
        "    \n",
        "    X, y = make_blobs(n_samples=10000, centers=ct, n_features=numfeat , random_state=int(id[3:6]))\n",
        "\n",
        "    print(f'{id[3:6]}:{numfeat}:{ct}')\n",
        "    X_t = (X[:,1]*2)+int(id[3])\n",
        "    X_t2 = (X[:,-1]*5)+int(id[4])\n",
        "\n",
        "    DT = np.append(X,X_t.reshape([10000,1]),axis=1)\n",
        "    DT = np.append(DT,X_t2.reshape([10000,1]),axis=1)\n",
        "    \n",
        "    return pandas.DataFrame(DT)"
      ],
      "execution_count": 39,
      "outputs": []
    },
    {
      "cell_type": "code",
      "metadata": {
        "colab": {
          "base_uri": "https://localhost:8080/"
        },
        "id": "hbXlxumSBX9i",
        "outputId": "04a8a473-05fd-492f-dfe7-b7a551a31f0c"
      },
      "source": [
        "Data = DataGenerator(Name,ID)"
      ],
      "execution_count": 40,
      "outputs": [
        {
          "output_type": "stream",
          "text": [
            "020:30:14\n"
          ],
          "name": "stdout"
        }
      ]
    },
    {
      "cell_type": "code",
      "metadata": {
        "colab": {
          "base_uri": "https://localhost:8080/",
          "height": 439
        },
        "id": "pQcCySXvBdN-",
        "outputId": "0a54d661-6dd9-4956-f1b4-c62ee56d2a0d"
      },
      "source": [
        "Data"
      ],
      "execution_count": 41,
      "outputs": [
        {
          "output_type": "execute_result",
          "data": {
            "text/html": [
              "<div>\n",
              "<style scoped>\n",
              "    .dataframe tbody tr th:only-of-type {\n",
              "        vertical-align: middle;\n",
              "    }\n",
              "\n",
              "    .dataframe tbody tr th {\n",
              "        vertical-align: top;\n",
              "    }\n",
              "\n",
              "    .dataframe thead th {\n",
              "        text-align: right;\n",
              "    }\n",
              "</style>\n",
              "<table border=\"1\" class=\"dataframe\">\n",
              "  <thead>\n",
              "    <tr style=\"text-align: right;\">\n",
              "      <th></th>\n",
              "      <th>0</th>\n",
              "      <th>1</th>\n",
              "      <th>2</th>\n",
              "      <th>3</th>\n",
              "      <th>4</th>\n",
              "      <th>5</th>\n",
              "      <th>6</th>\n",
              "      <th>7</th>\n",
              "      <th>8</th>\n",
              "      <th>9</th>\n",
              "      <th>10</th>\n",
              "      <th>11</th>\n",
              "      <th>12</th>\n",
              "      <th>13</th>\n",
              "      <th>14</th>\n",
              "      <th>15</th>\n",
              "      <th>16</th>\n",
              "      <th>17</th>\n",
              "      <th>18</th>\n",
              "      <th>19</th>\n",
              "      <th>20</th>\n",
              "      <th>21</th>\n",
              "      <th>22</th>\n",
              "      <th>23</th>\n",
              "      <th>24</th>\n",
              "      <th>25</th>\n",
              "      <th>26</th>\n",
              "      <th>27</th>\n",
              "      <th>28</th>\n",
              "      <th>29</th>\n",
              "      <th>30</th>\n",
              "      <th>31</th>\n",
              "    </tr>\n",
              "  </thead>\n",
              "  <tbody>\n",
              "    <tr>\n",
              "      <th>0</th>\n",
              "      <td>5.779841</td>\n",
              "      <td>9.590162</td>\n",
              "      <td>7.580040</td>\n",
              "      <td>-4.278572</td>\n",
              "      <td>-6.772580</td>\n",
              "      <td>-3.337118</td>\n",
              "      <td>9.763874</td>\n",
              "      <td>2.163429</td>\n",
              "      <td>8.836751</td>\n",
              "      <td>-9.402668</td>\n",
              "      <td>6.069058</td>\n",
              "      <td>-9.942346</td>\n",
              "      <td>-9.473521</td>\n",
              "      <td>-8.133425</td>\n",
              "      <td>-3.969872</td>\n",
              "      <td>-0.409420</td>\n",
              "      <td>7.109384</td>\n",
              "      <td>7.607849</td>\n",
              "      <td>1.669154</td>\n",
              "      <td>7.170246</td>\n",
              "      <td>-8.165292</td>\n",
              "      <td>4.877405</td>\n",
              "      <td>-7.617871</td>\n",
              "      <td>-6.756496</td>\n",
              "      <td>8.850628</td>\n",
              "      <td>-5.386895</td>\n",
              "      <td>7.550170</td>\n",
              "      <td>1.864166</td>\n",
              "      <td>4.126644</td>\n",
              "      <td>2.942146</td>\n",
              "      <td>19.180325</td>\n",
              "      <td>16.710729</td>\n",
              "    </tr>\n",
              "    <tr>\n",
              "      <th>1</th>\n",
              "      <td>-1.969309</td>\n",
              "      <td>-5.779929</td>\n",
              "      <td>-0.479035</td>\n",
              "      <td>7.120809</td>\n",
              "      <td>-6.967939</td>\n",
              "      <td>-2.562261</td>\n",
              "      <td>-1.431636</td>\n",
              "      <td>-2.876955</td>\n",
              "      <td>-8.809777</td>\n",
              "      <td>-7.156166</td>\n",
              "      <td>9.225777</td>\n",
              "      <td>-5.276836</td>\n",
              "      <td>-10.170002</td>\n",
              "      <td>-0.050986</td>\n",
              "      <td>2.987005</td>\n",
              "      <td>-1.758751</td>\n",
              "      <td>9.133687</td>\n",
              "      <td>-4.224050</td>\n",
              "      <td>6.810339</td>\n",
              "      <td>0.860089</td>\n",
              "      <td>4.585015</td>\n",
              "      <td>2.999504</td>\n",
              "      <td>-7.098761</td>\n",
              "      <td>-8.103267</td>\n",
              "      <td>8.184693</td>\n",
              "      <td>9.626054</td>\n",
              "      <td>3.503491</td>\n",
              "      <td>-0.090879</td>\n",
              "      <td>-0.446152</td>\n",
              "      <td>7.465699</td>\n",
              "      <td>-11.559858</td>\n",
              "      <td>39.328496</td>\n",
              "    </tr>\n",
              "    <tr>\n",
              "      <th>2</th>\n",
              "      <td>3.599102</td>\n",
              "      <td>3.524340</td>\n",
              "      <td>-6.054480</td>\n",
              "      <td>-9.089953</td>\n",
              "      <td>5.181669</td>\n",
              "      <td>-0.834194</td>\n",
              "      <td>-3.931799</td>\n",
              "      <td>-0.137943</td>\n",
              "      <td>-4.589369</td>\n",
              "      <td>-2.365034</td>\n",
              "      <td>3.685007</td>\n",
              "      <td>0.919187</td>\n",
              "      <td>-3.120397</td>\n",
              "      <td>-2.182186</td>\n",
              "      <td>-4.271154</td>\n",
              "      <td>2.253673</td>\n",
              "      <td>-6.701235</td>\n",
              "      <td>3.455984</td>\n",
              "      <td>7.511894</td>\n",
              "      <td>-4.712591</td>\n",
              "      <td>5.952467</td>\n",
              "      <td>-0.483959</td>\n",
              "      <td>3.421101</td>\n",
              "      <td>5.602329</td>\n",
              "      <td>7.429803</td>\n",
              "      <td>0.191208</td>\n",
              "      <td>2.966675</td>\n",
              "      <td>2.952572</td>\n",
              "      <td>-2.706058</td>\n",
              "      <td>2.749403</td>\n",
              "      <td>7.048680</td>\n",
              "      <td>15.747013</td>\n",
              "    </tr>\n",
              "    <tr>\n",
              "      <th>3</th>\n",
              "      <td>2.610732</td>\n",
              "      <td>2.268904</td>\n",
              "      <td>-4.365511</td>\n",
              "      <td>-8.991586</td>\n",
              "      <td>6.929414</td>\n",
              "      <td>0.396067</td>\n",
              "      <td>-3.116764</td>\n",
              "      <td>0.122945</td>\n",
              "      <td>-4.237205</td>\n",
              "      <td>-4.860459</td>\n",
              "      <td>1.596553</td>\n",
              "      <td>1.567507</td>\n",
              "      <td>-2.599508</td>\n",
              "      <td>-1.812618</td>\n",
              "      <td>-5.665761</td>\n",
              "      <td>4.284519</td>\n",
              "      <td>-6.163315</td>\n",
              "      <td>2.150961</td>\n",
              "      <td>6.780581</td>\n",
              "      <td>-7.338840</td>\n",
              "      <td>4.205672</td>\n",
              "      <td>-1.683074</td>\n",
              "      <td>4.436318</td>\n",
              "      <td>7.012761</td>\n",
              "      <td>4.945608</td>\n",
              "      <td>2.722019</td>\n",
              "      <td>1.213484</td>\n",
              "      <td>2.704299</td>\n",
              "      <td>-0.405857</td>\n",
              "      <td>0.589666</td>\n",
              "      <td>4.537807</td>\n",
              "      <td>4.948332</td>\n",
              "    </tr>\n",
              "    <tr>\n",
              "      <th>4</th>\n",
              "      <td>1.229763</td>\n",
              "      <td>6.218683</td>\n",
              "      <td>6.069170</td>\n",
              "      <td>7.837148</td>\n",
              "      <td>-7.564717</td>\n",
              "      <td>9.068409</td>\n",
              "      <td>8.398188</td>\n",
              "      <td>-6.073507</td>\n",
              "      <td>5.877496</td>\n",
              "      <td>-2.328447</td>\n",
              "      <td>-1.386795</td>\n",
              "      <td>2.800630</td>\n",
              "      <td>8.479073</td>\n",
              "      <td>6.045114</td>\n",
              "      <td>9.387522</td>\n",
              "      <td>3.651719</td>\n",
              "      <td>-8.845904</td>\n",
              "      <td>8.773557</td>\n",
              "      <td>-4.049647</td>\n",
              "      <td>4.501112</td>\n",
              "      <td>7.998507</td>\n",
              "      <td>-0.474366</td>\n",
              "      <td>6.817369</td>\n",
              "      <td>8.979003</td>\n",
              "      <td>11.270047</td>\n",
              "      <td>-5.587750</td>\n",
              "      <td>-4.801151</td>\n",
              "      <td>-4.927810</td>\n",
              "      <td>-0.572961</td>\n",
              "      <td>7.252844</td>\n",
              "      <td>12.437365</td>\n",
              "      <td>38.264218</td>\n",
              "    </tr>\n",
              "    <tr>\n",
              "      <th>...</th>\n",
              "      <td>...</td>\n",
              "      <td>...</td>\n",
              "      <td>...</td>\n",
              "      <td>...</td>\n",
              "      <td>...</td>\n",
              "      <td>...</td>\n",
              "      <td>...</td>\n",
              "      <td>...</td>\n",
              "      <td>...</td>\n",
              "      <td>...</td>\n",
              "      <td>...</td>\n",
              "      <td>...</td>\n",
              "      <td>...</td>\n",
              "      <td>...</td>\n",
              "      <td>...</td>\n",
              "      <td>...</td>\n",
              "      <td>...</td>\n",
              "      <td>...</td>\n",
              "      <td>...</td>\n",
              "      <td>...</td>\n",
              "      <td>...</td>\n",
              "      <td>...</td>\n",
              "      <td>...</td>\n",
              "      <td>...</td>\n",
              "      <td>...</td>\n",
              "      <td>...</td>\n",
              "      <td>...</td>\n",
              "      <td>...</td>\n",
              "      <td>...</td>\n",
              "      <td>...</td>\n",
              "      <td>...</td>\n",
              "      <td>...</td>\n",
              "    </tr>\n",
              "    <tr>\n",
              "      <th>9995</th>\n",
              "      <td>4.115431</td>\n",
              "      <td>7.000837</td>\n",
              "      <td>-9.653089</td>\n",
              "      <td>-7.160725</td>\n",
              "      <td>9.323379</td>\n",
              "      <td>0.008322</td>\n",
              "      <td>8.853850</td>\n",
              "      <td>2.496611</td>\n",
              "      <td>3.815244</td>\n",
              "      <td>0.382697</td>\n",
              "      <td>6.690362</td>\n",
              "      <td>-3.427856</td>\n",
              "      <td>-4.262191</td>\n",
              "      <td>-1.233465</td>\n",
              "      <td>-2.097576</td>\n",
              "      <td>6.860297</td>\n",
              "      <td>-3.083898</td>\n",
              "      <td>-1.410190</td>\n",
              "      <td>-0.426802</td>\n",
              "      <td>-2.115237</td>\n",
              "      <td>2.321582</td>\n",
              "      <td>-6.152592</td>\n",
              "      <td>4.205598</td>\n",
              "      <td>-4.351731</td>\n",
              "      <td>9.674877</td>\n",
              "      <td>-8.252335</td>\n",
              "      <td>6.537963</td>\n",
              "      <td>-1.520673</td>\n",
              "      <td>-7.923699</td>\n",
              "      <td>3.938198</td>\n",
              "      <td>14.001675</td>\n",
              "      <td>21.690991</td>\n",
              "    </tr>\n",
              "    <tr>\n",
              "      <th>9996</th>\n",
              "      <td>8.642016</td>\n",
              "      <td>-10.310443</td>\n",
              "      <td>-4.164195</td>\n",
              "      <td>-0.103425</td>\n",
              "      <td>5.280763</td>\n",
              "      <td>10.100324</td>\n",
              "      <td>10.376776</td>\n",
              "      <td>2.035528</td>\n",
              "      <td>-2.865085</td>\n",
              "      <td>-3.634668</td>\n",
              "      <td>3.175611</td>\n",
              "      <td>3.091032</td>\n",
              "      <td>4.854759</td>\n",
              "      <td>-3.718518</td>\n",
              "      <td>9.154610</td>\n",
              "      <td>7.477065</td>\n",
              "      <td>-5.644479</td>\n",
              "      <td>3.183633</td>\n",
              "      <td>7.624630</td>\n",
              "      <td>-10.160440</td>\n",
              "      <td>-6.843769</td>\n",
              "      <td>9.264963</td>\n",
              "      <td>6.128426</td>\n",
              "      <td>4.705592</td>\n",
              "      <td>9.834965</td>\n",
              "      <td>-6.510483</td>\n",
              "      <td>-8.046730</td>\n",
              "      <td>5.285699</td>\n",
              "      <td>-0.492100</td>\n",
              "      <td>4.496800</td>\n",
              "      <td>-20.620886</td>\n",
              "      <td>24.484000</td>\n",
              "    </tr>\n",
              "    <tr>\n",
              "      <th>9997</th>\n",
              "      <td>2.576362</td>\n",
              "      <td>-2.282850</td>\n",
              "      <td>-1.977706</td>\n",
              "      <td>7.939707</td>\n",
              "      <td>1.760702</td>\n",
              "      <td>-6.222240</td>\n",
              "      <td>3.906714</td>\n",
              "      <td>-4.212861</td>\n",
              "      <td>7.771867</td>\n",
              "      <td>-2.179046</td>\n",
              "      <td>-7.370692</td>\n",
              "      <td>1.098961</td>\n",
              "      <td>-5.226815</td>\n",
              "      <td>-7.994809</td>\n",
              "      <td>-3.480564</td>\n",
              "      <td>1.547576</td>\n",
              "      <td>1.043375</td>\n",
              "      <td>7.676349</td>\n",
              "      <td>2.609321</td>\n",
              "      <td>-8.077446</td>\n",
              "      <td>6.056793</td>\n",
              "      <td>-7.367577</td>\n",
              "      <td>-8.567476</td>\n",
              "      <td>-3.069323</td>\n",
              "      <td>4.276709</td>\n",
              "      <td>-6.563668</td>\n",
              "      <td>-2.562896</td>\n",
              "      <td>10.299857</td>\n",
              "      <td>8.607741</td>\n",
              "      <td>1.419396</td>\n",
              "      <td>-4.565701</td>\n",
              "      <td>9.096982</td>\n",
              "    </tr>\n",
              "    <tr>\n",
              "      <th>9998</th>\n",
              "      <td>5.623216</td>\n",
              "      <td>6.132319</td>\n",
              "      <td>-9.526871</td>\n",
              "      <td>-7.102227</td>\n",
              "      <td>7.470630</td>\n",
              "      <td>1.645184</td>\n",
              "      <td>7.913972</td>\n",
              "      <td>-0.513498</td>\n",
              "      <td>6.165712</td>\n",
              "      <td>-2.734110</td>\n",
              "      <td>7.303640</td>\n",
              "      <td>-0.367817</td>\n",
              "      <td>-4.374165</td>\n",
              "      <td>-1.374892</td>\n",
              "      <td>-1.328014</td>\n",
              "      <td>6.636919</td>\n",
              "      <td>-2.271619</td>\n",
              "      <td>-4.250679</td>\n",
              "      <td>-0.379184</td>\n",
              "      <td>-3.499792</td>\n",
              "      <td>3.763622</td>\n",
              "      <td>-6.828777</td>\n",
              "      <td>4.275611</td>\n",
              "      <td>-3.615921</td>\n",
              "      <td>9.257696</td>\n",
              "      <td>-6.524113</td>\n",
              "      <td>6.213284</td>\n",
              "      <td>-3.265337</td>\n",
              "      <td>-6.691210</td>\n",
              "      <td>4.450119</td>\n",
              "      <td>12.264638</td>\n",
              "      <td>24.250595</td>\n",
              "    </tr>\n",
              "    <tr>\n",
              "      <th>9999</th>\n",
              "      <td>4.645371</td>\n",
              "      <td>6.691490</td>\n",
              "      <td>-10.926293</td>\n",
              "      <td>-7.826910</td>\n",
              "      <td>8.710270</td>\n",
              "      <td>-0.211986</td>\n",
              "      <td>9.835527</td>\n",
              "      <td>1.364481</td>\n",
              "      <td>5.363017</td>\n",
              "      <td>-0.433442</td>\n",
              "      <td>7.858837</td>\n",
              "      <td>-1.915288</td>\n",
              "      <td>-6.629440</td>\n",
              "      <td>-1.525908</td>\n",
              "      <td>-2.774851</td>\n",
              "      <td>6.962517</td>\n",
              "      <td>-4.101389</td>\n",
              "      <td>-2.814359</td>\n",
              "      <td>-2.065148</td>\n",
              "      <td>-3.282049</td>\n",
              "      <td>3.486079</td>\n",
              "      <td>-5.526629</td>\n",
              "      <td>3.787922</td>\n",
              "      <td>-5.528968</td>\n",
              "      <td>8.101658</td>\n",
              "      <td>-9.221054</td>\n",
              "      <td>7.350431</td>\n",
              "      <td>-2.093218</td>\n",
              "      <td>-8.912812</td>\n",
              "      <td>5.503867</td>\n",
              "      <td>13.382980</td>\n",
              "      <td>29.519334</td>\n",
              "    </tr>\n",
              "  </tbody>\n",
              "</table>\n",
              "<p>10000 rows × 32 columns</p>\n",
              "</div>"
            ],
            "text/plain": [
              "            0          1          2   ...        29         30         31\n",
              "0     5.779841   9.590162   7.580040  ...  2.942146  19.180325  16.710729\n",
              "1    -1.969309  -5.779929  -0.479035  ...  7.465699 -11.559858  39.328496\n",
              "2     3.599102   3.524340  -6.054480  ...  2.749403   7.048680  15.747013\n",
              "3     2.610732   2.268904  -4.365511  ...  0.589666   4.537807   4.948332\n",
              "4     1.229763   6.218683   6.069170  ...  7.252844  12.437365  38.264218\n",
              "...        ...        ...        ...  ...       ...        ...        ...\n",
              "9995  4.115431   7.000837  -9.653089  ...  3.938198  14.001675  21.690991\n",
              "9996  8.642016 -10.310443  -4.164195  ...  4.496800 -20.620886  24.484000\n",
              "9997  2.576362  -2.282850  -1.977706  ...  1.419396  -4.565701   9.096982\n",
              "9998  5.623216   6.132319  -9.526871  ...  4.450119  12.264638  24.250595\n",
              "9999  4.645371   6.691490 -10.926293  ...  5.503867  13.382980  29.519334\n",
              "\n",
              "[10000 rows x 32 columns]"
            ]
          },
          "metadata": {
            "tags": []
          },
          "execution_count": 41
        }
      ]
    },
    {
      "cell_type": "markdown",
      "metadata": {
        "id": "o_AP0mhku4Jv"
      },
      "source": [
        "# 2. ทำ clustering แล้วทำ visualize ข้อมูลแบบ 2 มิติ"
      ]
    },
    {
      "cell_type": "code",
      "metadata": {
        "id": "WUPACH8WTh88",
        "colab": {
          "base_uri": "https://localhost:8080/"
        },
        "outputId": "3eb2781c-1cee-49f7-f831-fcdf60fa745b"
      },
      "source": [
        "Data.shape # มีทั้งหมด 32 dimension"
      ],
      "execution_count": 42,
      "outputs": [
        {
          "output_type": "execute_result",
          "data": {
            "text/plain": [
              "(10000, 32)"
            ]
          },
          "metadata": {
            "tags": []
          },
          "execution_count": 42
        }
      ]
    },
    {
      "cell_type": "markdown",
      "metadata": {
        "id": "K5TfKr1ST9Ru"
      },
      "source": [
        "## Data มี dimension มากเกินไป เราจะทดสอบดูว่า column ใด ให้ข้อมูลซ้ำกับ column อื่น เเล้วลบมันออก"
      ]
    },
    {
      "cell_type": "markdown",
      "metadata": {
        "id": "Phi6jqbfOiz5"
      },
      "source": [
        "#### ตรวจสอบว่า ระหว่าง colums มี correlation กันมากน้อยเเค่ไหน ด้วย numpy"
      ]
    },
    {
      "cell_type": "code",
      "metadata": {
        "id": "O3iQic3uOXVk"
      },
      "source": [
        "import numpy as np"
      ],
      "execution_count": 43,
      "outputs": []
    },
    {
      "cell_type": "code",
      "metadata": {
        "id": "hvO7JN6hOswJ"
      },
      "source": [
        "corr = np.corrcoef(Data.to_numpy().T) # หา correlation"
      ],
      "execution_count": 44,
      "outputs": []
    },
    {
      "cell_type": "code",
      "metadata": {
        "id": "seXxz-H0OzA8",
        "colab": {
          "base_uri": "https://localhost:8080/"
        },
        "outputId": "f890a8df-89a9-4b3e-f94a-a9eae4144198"
      },
      "source": [
        "corr.shape"
      ],
      "execution_count": 45,
      "outputs": [
        {
          "output_type": "execute_result",
          "data": {
            "text/plain": [
              "(32, 32)"
            ]
          },
          "metadata": {
            "tags": []
          },
          "execution_count": 45
        }
      ]
    },
    {
      "cell_type": "code",
      "metadata": {
        "id": "ZLih4jIMPHPr",
        "colab": {
          "base_uri": "https://localhost:8080/"
        },
        "outputId": "67a0c79f-33c1-400c-8366-261029b737a3"
      },
      "source": [
        "corr"
      ],
      "execution_count": 46,
      "outputs": [
        {
          "output_type": "execute_result",
          "data": {
            "text/plain": [
              "array([[ 1.        , -0.03522889,  0.06557524, ...,  0.41074998,\n",
              "        -0.03522889,  0.41074998],\n",
              "       [-0.03522889,  1.        ,  0.26280354, ..., -0.10765056,\n",
              "         1.        , -0.10765056],\n",
              "       [ 0.06557524,  0.26280354,  1.        , ..., -0.01992461,\n",
              "         0.26280354, -0.01992461],\n",
              "       ...,\n",
              "       [ 0.41074998, -0.10765056, -0.01992461, ...,  1.        ,\n",
              "        -0.10765056,  1.        ],\n",
              "       [-0.03522889,  1.        ,  0.26280354, ..., -0.10765056,\n",
              "         1.        , -0.10765056],\n",
              "       [ 0.41074998, -0.10765056, -0.01992461, ...,  1.        ,\n",
              "        -0.10765056,  1.        ]])"
            ]
          },
          "metadata": {
            "tags": []
          },
          "execution_count": 46
        }
      ]
    },
    {
      "cell_type": "code",
      "metadata": {
        "id": "YkKAlbekPJji"
      },
      "source": [
        "for i in range(corr.shape[0]):\n",
        "    for j in range(corr.shape[1]):\n",
        "        if (i !=j) and (corr[i,j] == 1.):\n",
        "            print(f'row = {i} column = {j} corrcoef = {corr[i,j]}') # ค่าไหนที่เป็น 1 โดยที่ i,j ไม่เท่ากัน print เฉพาะ ค่า correlation เป็น 1 โดยไม่เอาเส้นทเเยงมุม"
      ],
      "execution_count": 47,
      "outputs": []
    },
    {
      "cell_type": "code",
      "metadata": {
        "id": "89QXrl1PPZ0L",
        "colab": {
          "base_uri": "https://localhost:8080/",
          "height": 968
        },
        "outputId": "38520ce1-1769-44d2-b320-9d8fbc3744b2"
      },
      "source": [
        "new_data = Data.iloc[:29,:-1]\n",
        "new_data"
      ],
      "execution_count": 48,
      "outputs": [
        {
          "output_type": "execute_result",
          "data": {
            "text/html": [
              "<div>\n",
              "<style scoped>\n",
              "    .dataframe tbody tr th:only-of-type {\n",
              "        vertical-align: middle;\n",
              "    }\n",
              "\n",
              "    .dataframe tbody tr th {\n",
              "        vertical-align: top;\n",
              "    }\n",
              "\n",
              "    .dataframe thead th {\n",
              "        text-align: right;\n",
              "    }\n",
              "</style>\n",
              "<table border=\"1\" class=\"dataframe\">\n",
              "  <thead>\n",
              "    <tr style=\"text-align: right;\">\n",
              "      <th></th>\n",
              "      <th>0</th>\n",
              "      <th>1</th>\n",
              "      <th>2</th>\n",
              "      <th>3</th>\n",
              "      <th>4</th>\n",
              "      <th>5</th>\n",
              "      <th>6</th>\n",
              "      <th>7</th>\n",
              "      <th>8</th>\n",
              "      <th>9</th>\n",
              "      <th>10</th>\n",
              "      <th>11</th>\n",
              "      <th>12</th>\n",
              "      <th>13</th>\n",
              "      <th>14</th>\n",
              "      <th>15</th>\n",
              "      <th>16</th>\n",
              "      <th>17</th>\n",
              "      <th>18</th>\n",
              "      <th>19</th>\n",
              "      <th>20</th>\n",
              "      <th>21</th>\n",
              "      <th>22</th>\n",
              "      <th>23</th>\n",
              "      <th>24</th>\n",
              "      <th>25</th>\n",
              "      <th>26</th>\n",
              "      <th>27</th>\n",
              "      <th>28</th>\n",
              "      <th>29</th>\n",
              "      <th>30</th>\n",
              "    </tr>\n",
              "  </thead>\n",
              "  <tbody>\n",
              "    <tr>\n",
              "      <th>0</th>\n",
              "      <td>5.779841</td>\n",
              "      <td>9.590162</td>\n",
              "      <td>7.580040</td>\n",
              "      <td>-4.278572</td>\n",
              "      <td>-6.772580</td>\n",
              "      <td>-3.337118</td>\n",
              "      <td>9.763874</td>\n",
              "      <td>2.163429</td>\n",
              "      <td>8.836751</td>\n",
              "      <td>-9.402668</td>\n",
              "      <td>6.069058</td>\n",
              "      <td>-9.942346</td>\n",
              "      <td>-9.473521</td>\n",
              "      <td>-8.133425</td>\n",
              "      <td>-3.969872</td>\n",
              "      <td>-0.409420</td>\n",
              "      <td>7.109384</td>\n",
              "      <td>7.607849</td>\n",
              "      <td>1.669154</td>\n",
              "      <td>7.170246</td>\n",
              "      <td>-8.165292</td>\n",
              "      <td>4.877405</td>\n",
              "      <td>-7.617871</td>\n",
              "      <td>-6.756496</td>\n",
              "      <td>8.850628</td>\n",
              "      <td>-5.386895</td>\n",
              "      <td>7.550170</td>\n",
              "      <td>1.864166</td>\n",
              "      <td>4.126644</td>\n",
              "      <td>2.942146</td>\n",
              "      <td>19.180325</td>\n",
              "    </tr>\n",
              "    <tr>\n",
              "      <th>1</th>\n",
              "      <td>-1.969309</td>\n",
              "      <td>-5.779929</td>\n",
              "      <td>-0.479035</td>\n",
              "      <td>7.120809</td>\n",
              "      <td>-6.967939</td>\n",
              "      <td>-2.562261</td>\n",
              "      <td>-1.431636</td>\n",
              "      <td>-2.876955</td>\n",
              "      <td>-8.809777</td>\n",
              "      <td>-7.156166</td>\n",
              "      <td>9.225777</td>\n",
              "      <td>-5.276836</td>\n",
              "      <td>-10.170002</td>\n",
              "      <td>-0.050986</td>\n",
              "      <td>2.987005</td>\n",
              "      <td>-1.758751</td>\n",
              "      <td>9.133687</td>\n",
              "      <td>-4.224050</td>\n",
              "      <td>6.810339</td>\n",
              "      <td>0.860089</td>\n",
              "      <td>4.585015</td>\n",
              "      <td>2.999504</td>\n",
              "      <td>-7.098761</td>\n",
              "      <td>-8.103267</td>\n",
              "      <td>8.184693</td>\n",
              "      <td>9.626054</td>\n",
              "      <td>3.503491</td>\n",
              "      <td>-0.090879</td>\n",
              "      <td>-0.446152</td>\n",
              "      <td>7.465699</td>\n",
              "      <td>-11.559858</td>\n",
              "    </tr>\n",
              "    <tr>\n",
              "      <th>2</th>\n",
              "      <td>3.599102</td>\n",
              "      <td>3.524340</td>\n",
              "      <td>-6.054480</td>\n",
              "      <td>-9.089953</td>\n",
              "      <td>5.181669</td>\n",
              "      <td>-0.834194</td>\n",
              "      <td>-3.931799</td>\n",
              "      <td>-0.137943</td>\n",
              "      <td>-4.589369</td>\n",
              "      <td>-2.365034</td>\n",
              "      <td>3.685007</td>\n",
              "      <td>0.919187</td>\n",
              "      <td>-3.120397</td>\n",
              "      <td>-2.182186</td>\n",
              "      <td>-4.271154</td>\n",
              "      <td>2.253673</td>\n",
              "      <td>-6.701235</td>\n",
              "      <td>3.455984</td>\n",
              "      <td>7.511894</td>\n",
              "      <td>-4.712591</td>\n",
              "      <td>5.952467</td>\n",
              "      <td>-0.483959</td>\n",
              "      <td>3.421101</td>\n",
              "      <td>5.602329</td>\n",
              "      <td>7.429803</td>\n",
              "      <td>0.191208</td>\n",
              "      <td>2.966675</td>\n",
              "      <td>2.952572</td>\n",
              "      <td>-2.706058</td>\n",
              "      <td>2.749403</td>\n",
              "      <td>7.048680</td>\n",
              "    </tr>\n",
              "    <tr>\n",
              "      <th>3</th>\n",
              "      <td>2.610732</td>\n",
              "      <td>2.268904</td>\n",
              "      <td>-4.365511</td>\n",
              "      <td>-8.991586</td>\n",
              "      <td>6.929414</td>\n",
              "      <td>0.396067</td>\n",
              "      <td>-3.116764</td>\n",
              "      <td>0.122945</td>\n",
              "      <td>-4.237205</td>\n",
              "      <td>-4.860459</td>\n",
              "      <td>1.596553</td>\n",
              "      <td>1.567507</td>\n",
              "      <td>-2.599508</td>\n",
              "      <td>-1.812618</td>\n",
              "      <td>-5.665761</td>\n",
              "      <td>4.284519</td>\n",
              "      <td>-6.163315</td>\n",
              "      <td>2.150961</td>\n",
              "      <td>6.780581</td>\n",
              "      <td>-7.338840</td>\n",
              "      <td>4.205672</td>\n",
              "      <td>-1.683074</td>\n",
              "      <td>4.436318</td>\n",
              "      <td>7.012761</td>\n",
              "      <td>4.945608</td>\n",
              "      <td>2.722019</td>\n",
              "      <td>1.213484</td>\n",
              "      <td>2.704299</td>\n",
              "      <td>-0.405857</td>\n",
              "      <td>0.589666</td>\n",
              "      <td>4.537807</td>\n",
              "    </tr>\n",
              "    <tr>\n",
              "      <th>4</th>\n",
              "      <td>1.229763</td>\n",
              "      <td>6.218683</td>\n",
              "      <td>6.069170</td>\n",
              "      <td>7.837148</td>\n",
              "      <td>-7.564717</td>\n",
              "      <td>9.068409</td>\n",
              "      <td>8.398188</td>\n",
              "      <td>-6.073507</td>\n",
              "      <td>5.877496</td>\n",
              "      <td>-2.328447</td>\n",
              "      <td>-1.386795</td>\n",
              "      <td>2.800630</td>\n",
              "      <td>8.479073</td>\n",
              "      <td>6.045114</td>\n",
              "      <td>9.387522</td>\n",
              "      <td>3.651719</td>\n",
              "      <td>-8.845904</td>\n",
              "      <td>8.773557</td>\n",
              "      <td>-4.049647</td>\n",
              "      <td>4.501112</td>\n",
              "      <td>7.998507</td>\n",
              "      <td>-0.474366</td>\n",
              "      <td>6.817369</td>\n",
              "      <td>8.979003</td>\n",
              "      <td>11.270047</td>\n",
              "      <td>-5.587750</td>\n",
              "      <td>-4.801151</td>\n",
              "      <td>-4.927810</td>\n",
              "      <td>-0.572961</td>\n",
              "      <td>7.252844</td>\n",
              "      <td>12.437365</td>\n",
              "    </tr>\n",
              "    <tr>\n",
              "      <th>5</th>\n",
              "      <td>3.435373</td>\n",
              "      <td>7.708053</td>\n",
              "      <td>6.786980</td>\n",
              "      <td>4.918556</td>\n",
              "      <td>-9.022045</td>\n",
              "      <td>3.990722</td>\n",
              "      <td>-1.812553</td>\n",
              "      <td>2.221907</td>\n",
              "      <td>2.410777</td>\n",
              "      <td>-6.593398</td>\n",
              "      <td>-3.445902</td>\n",
              "      <td>4.386113</td>\n",
              "      <td>3.894498</td>\n",
              "      <td>6.619237</td>\n",
              "      <td>5.834038</td>\n",
              "      <td>-9.195040</td>\n",
              "      <td>-7.862980</td>\n",
              "      <td>4.357757</td>\n",
              "      <td>-6.701633</td>\n",
              "      <td>-5.932009</td>\n",
              "      <td>9.236143</td>\n",
              "      <td>9.061335</td>\n",
              "      <td>2.124348</td>\n",
              "      <td>-6.203847</td>\n",
              "      <td>3.146928</td>\n",
              "      <td>-0.599879</td>\n",
              "      <td>2.009801</td>\n",
              "      <td>7.437053</td>\n",
              "      <td>-1.255080</td>\n",
              "      <td>0.694586</td>\n",
              "      <td>15.416105</td>\n",
              "    </tr>\n",
              "    <tr>\n",
              "      <th>6</th>\n",
              "      <td>4.991551</td>\n",
              "      <td>5.905445</td>\n",
              "      <td>-10.446282</td>\n",
              "      <td>-7.300822</td>\n",
              "      <td>8.281342</td>\n",
              "      <td>0.130160</td>\n",
              "      <td>8.885896</td>\n",
              "      <td>1.376357</td>\n",
              "      <td>4.557849</td>\n",
              "      <td>-1.613006</td>\n",
              "      <td>5.871705</td>\n",
              "      <td>-4.118508</td>\n",
              "      <td>-2.106958</td>\n",
              "      <td>-1.312431</td>\n",
              "      <td>-1.084164</td>\n",
              "      <td>6.919244</td>\n",
              "      <td>-3.121902</td>\n",
              "      <td>-1.652876</td>\n",
              "      <td>-0.738831</td>\n",
              "      <td>0.264404</td>\n",
              "      <td>3.673120</td>\n",
              "      <td>-8.248397</td>\n",
              "      <td>4.020673</td>\n",
              "      <td>-3.813671</td>\n",
              "      <td>8.298802</td>\n",
              "      <td>-6.705362</td>\n",
              "      <td>5.312724</td>\n",
              "      <td>-3.933307</td>\n",
              "      <td>-6.857768</td>\n",
              "      <td>4.900560</td>\n",
              "      <td>11.810890</td>\n",
              "    </tr>\n",
              "    <tr>\n",
              "      <th>7</th>\n",
              "      <td>-0.281011</td>\n",
              "      <td>3.729231</td>\n",
              "      <td>-3.738418</td>\n",
              "      <td>-2.923185</td>\n",
              "      <td>7.259874</td>\n",
              "      <td>-11.347217</td>\n",
              "      <td>-1.752614</td>\n",
              "      <td>-6.580493</td>\n",
              "      <td>-7.065631</td>\n",
              "      <td>3.323508</td>\n",
              "      <td>-6.177486</td>\n",
              "      <td>-2.503118</td>\n",
              "      <td>1.729336</td>\n",
              "      <td>-5.112837</td>\n",
              "      <td>-4.773835</td>\n",
              "      <td>3.896917</td>\n",
              "      <td>8.588028</td>\n",
              "      <td>-2.814347</td>\n",
              "      <td>-9.774058</td>\n",
              "      <td>7.614962</td>\n",
              "      <td>5.971743</td>\n",
              "      <td>-3.307846</td>\n",
              "      <td>4.866311</td>\n",
              "      <td>-2.655781</td>\n",
              "      <td>4.117819</td>\n",
              "      <td>-7.425558</td>\n",
              "      <td>-9.315223</td>\n",
              "      <td>10.027696</td>\n",
              "      <td>6.906919</td>\n",
              "      <td>-7.001860</td>\n",
              "      <td>7.458461</td>\n",
              "    </tr>\n",
              "    <tr>\n",
              "      <th>8</th>\n",
              "      <td>1.332526</td>\n",
              "      <td>-1.362073</td>\n",
              "      <td>-1.314269</td>\n",
              "      <td>7.806652</td>\n",
              "      <td>3.224268</td>\n",
              "      <td>-6.191692</td>\n",
              "      <td>4.473504</td>\n",
              "      <td>-1.784208</td>\n",
              "      <td>6.882332</td>\n",
              "      <td>-1.923270</td>\n",
              "      <td>-6.709552</td>\n",
              "      <td>0.959339</td>\n",
              "      <td>-7.633004</td>\n",
              "      <td>-6.614718</td>\n",
              "      <td>-6.424024</td>\n",
              "      <td>2.548493</td>\n",
              "      <td>0.122291</td>\n",
              "      <td>6.912418</td>\n",
              "      <td>2.774861</td>\n",
              "      <td>-8.590395</td>\n",
              "      <td>7.841220</td>\n",
              "      <td>-6.552871</td>\n",
              "      <td>-11.114305</td>\n",
              "      <td>-3.568406</td>\n",
              "      <td>3.728417</td>\n",
              "      <td>-4.194976</td>\n",
              "      <td>-3.308692</td>\n",
              "      <td>8.658199</td>\n",
              "      <td>10.897084</td>\n",
              "      <td>3.203462</td>\n",
              "      <td>-2.724146</td>\n",
              "    </tr>\n",
              "    <tr>\n",
              "      <th>9</th>\n",
              "      <td>-7.291176</td>\n",
              "      <td>-3.494502</td>\n",
              "      <td>-6.785769</td>\n",
              "      <td>6.203354</td>\n",
              "      <td>8.328723</td>\n",
              "      <td>-10.346844</td>\n",
              "      <td>8.798594</td>\n",
              "      <td>7.879806</td>\n",
              "      <td>6.100483</td>\n",
              "      <td>3.030265</td>\n",
              "      <td>-5.561777</td>\n",
              "      <td>-2.210337</td>\n",
              "      <td>8.564189</td>\n",
              "      <td>-4.029149</td>\n",
              "      <td>-8.038724</td>\n",
              "      <td>-8.106575</td>\n",
              "      <td>-0.071729</td>\n",
              "      <td>-9.025690</td>\n",
              "      <td>3.201565</td>\n",
              "      <td>-7.107189</td>\n",
              "      <td>-1.122290</td>\n",
              "      <td>-8.699353</td>\n",
              "      <td>3.636479</td>\n",
              "      <td>-4.098653</td>\n",
              "      <td>4.792780</td>\n",
              "      <td>2.630575</td>\n",
              "      <td>-1.908506</td>\n",
              "      <td>-8.454870</td>\n",
              "      <td>10.823938</td>\n",
              "      <td>2.765104</td>\n",
              "      <td>-6.989004</td>\n",
              "    </tr>\n",
              "    <tr>\n",
              "      <th>10</th>\n",
              "      <td>1.992539</td>\n",
              "      <td>7.380734</td>\n",
              "      <td>7.784629</td>\n",
              "      <td>7.102003</td>\n",
              "      <td>-10.814023</td>\n",
              "      <td>10.612180</td>\n",
              "      <td>9.723785</td>\n",
              "      <td>-6.672231</td>\n",
              "      <td>5.993193</td>\n",
              "      <td>-1.547133</td>\n",
              "      <td>0.039738</td>\n",
              "      <td>5.040607</td>\n",
              "      <td>8.976495</td>\n",
              "      <td>5.853488</td>\n",
              "      <td>9.602816</td>\n",
              "      <td>2.656496</td>\n",
              "      <td>-8.727973</td>\n",
              "      <td>6.100193</td>\n",
              "      <td>-1.059239</td>\n",
              "      <td>2.051630</td>\n",
              "      <td>7.533432</td>\n",
              "      <td>-0.230732</td>\n",
              "      <td>9.803317</td>\n",
              "      <td>11.592060</td>\n",
              "      <td>8.642292</td>\n",
              "      <td>-4.338097</td>\n",
              "      <td>-5.825956</td>\n",
              "      <td>-3.430260</td>\n",
              "      <td>-0.314992</td>\n",
              "      <td>8.707140</td>\n",
              "      <td>14.761468</td>\n",
              "    </tr>\n",
              "    <tr>\n",
              "      <th>11</th>\n",
              "      <td>-7.269399</td>\n",
              "      <td>-0.810163</td>\n",
              "      <td>-7.617953</td>\n",
              "      <td>8.025657</td>\n",
              "      <td>8.536017</td>\n",
              "      <td>-8.641566</td>\n",
              "      <td>9.082783</td>\n",
              "      <td>8.442565</td>\n",
              "      <td>9.383635</td>\n",
              "      <td>6.172863</td>\n",
              "      <td>-7.765599</td>\n",
              "      <td>-2.291800</td>\n",
              "      <td>9.834641</td>\n",
              "      <td>-4.099137</td>\n",
              "      <td>-6.984914</td>\n",
              "      <td>-7.131217</td>\n",
              "      <td>0.344154</td>\n",
              "      <td>-10.283638</td>\n",
              "      <td>3.718923</td>\n",
              "      <td>-8.137745</td>\n",
              "      <td>-2.077847</td>\n",
              "      <td>-6.314411</td>\n",
              "      <td>3.247117</td>\n",
              "      <td>-4.090972</td>\n",
              "      <td>6.146070</td>\n",
              "      <td>2.162041</td>\n",
              "      <td>-2.749218</td>\n",
              "      <td>-8.707234</td>\n",
              "      <td>10.410190</td>\n",
              "      <td>3.381457</td>\n",
              "      <td>-1.620327</td>\n",
              "    </tr>\n",
              "    <tr>\n",
              "      <th>12</th>\n",
              "      <td>5.154073</td>\n",
              "      <td>7.414485</td>\n",
              "      <td>7.346905</td>\n",
              "      <td>-6.218078</td>\n",
              "      <td>-7.365161</td>\n",
              "      <td>-3.015495</td>\n",
              "      <td>8.128067</td>\n",
              "      <td>2.191036</td>\n",
              "      <td>7.291455</td>\n",
              "      <td>-12.758552</td>\n",
              "      <td>6.348046</td>\n",
              "      <td>-10.920464</td>\n",
              "      <td>-6.723536</td>\n",
              "      <td>-11.216646</td>\n",
              "      <td>-7.778744</td>\n",
              "      <td>-0.631692</td>\n",
              "      <td>8.173316</td>\n",
              "      <td>8.478399</td>\n",
              "      <td>2.603365</td>\n",
              "      <td>6.316246</td>\n",
              "      <td>-9.330869</td>\n",
              "      <td>3.942506</td>\n",
              "      <td>-8.336070</td>\n",
              "      <td>-6.995499</td>\n",
              "      <td>9.359816</td>\n",
              "      <td>-2.890537</td>\n",
              "      <td>6.349090</td>\n",
              "      <td>0.121867</td>\n",
              "      <td>3.433873</td>\n",
              "      <td>2.582103</td>\n",
              "      <td>14.828970</td>\n",
              "    </tr>\n",
              "    <tr>\n",
              "      <th>13</th>\n",
              "      <td>5.503952</td>\n",
              "      <td>7.261290</td>\n",
              "      <td>-8.884586</td>\n",
              "      <td>-8.713036</td>\n",
              "      <td>9.994342</td>\n",
              "      <td>-0.581250</td>\n",
              "      <td>7.995133</td>\n",
              "      <td>2.569233</td>\n",
              "      <td>3.997890</td>\n",
              "      <td>0.208088</td>\n",
              "      <td>7.504709</td>\n",
              "      <td>-1.990000</td>\n",
              "      <td>-4.607952</td>\n",
              "      <td>-1.672304</td>\n",
              "      <td>-2.818307</td>\n",
              "      <td>8.635679</td>\n",
              "      <td>-4.011917</td>\n",
              "      <td>-4.563689</td>\n",
              "      <td>-1.911595</td>\n",
              "      <td>-1.565818</td>\n",
              "      <td>4.189013</td>\n",
              "      <td>-6.194877</td>\n",
              "      <td>4.604334</td>\n",
              "      <td>-5.678952</td>\n",
              "      <td>9.258223</td>\n",
              "      <td>-7.891465</td>\n",
              "      <td>4.734376</td>\n",
              "      <td>-2.003428</td>\n",
              "      <td>-9.171554</td>\n",
              "      <td>5.818986</td>\n",
              "      <td>14.522580</td>\n",
              "    </tr>\n",
              "    <tr>\n",
              "      <th>14</th>\n",
              "      <td>-2.157073</td>\n",
              "      <td>-5.879926</td>\n",
              "      <td>0.197789</td>\n",
              "      <td>7.210159</td>\n",
              "      <td>-9.142103</td>\n",
              "      <td>-1.537959</td>\n",
              "      <td>-1.982350</td>\n",
              "      <td>-4.488404</td>\n",
              "      <td>-8.755635</td>\n",
              "      <td>-7.968672</td>\n",
              "      <td>9.109624</td>\n",
              "      <td>-4.590213</td>\n",
              "      <td>-9.796770</td>\n",
              "      <td>-1.298840</td>\n",
              "      <td>3.518040</td>\n",
              "      <td>-2.439373</td>\n",
              "      <td>10.552764</td>\n",
              "      <td>-6.223981</td>\n",
              "      <td>10.252665</td>\n",
              "      <td>-0.007652</td>\n",
              "      <td>5.250033</td>\n",
              "      <td>3.363071</td>\n",
              "      <td>-5.563760</td>\n",
              "      <td>-7.955994</td>\n",
              "      <td>8.953532</td>\n",
              "      <td>8.677225</td>\n",
              "      <td>3.551156</td>\n",
              "      <td>-1.451905</td>\n",
              "      <td>-1.326380</td>\n",
              "      <td>6.841101</td>\n",
              "      <td>-11.759851</td>\n",
              "    </tr>\n",
              "    <tr>\n",
              "      <th>15</th>\n",
              "      <td>-0.882619</td>\n",
              "      <td>-4.075238</td>\n",
              "      <td>-2.281913</td>\n",
              "      <td>3.633415</td>\n",
              "      <td>4.968731</td>\n",
              "      <td>8.692583</td>\n",
              "      <td>4.392687</td>\n",
              "      <td>0.982839</td>\n",
              "      <td>-8.591400</td>\n",
              "      <td>0.043258</td>\n",
              "      <td>-3.157981</td>\n",
              "      <td>-4.491692</td>\n",
              "      <td>2.703220</td>\n",
              "      <td>7.127927</td>\n",
              "      <td>1.204110</td>\n",
              "      <td>0.569061</td>\n",
              "      <td>2.691091</td>\n",
              "      <td>11.009709</td>\n",
              "      <td>7.639305</td>\n",
              "      <td>5.143993</td>\n",
              "      <td>-4.079183</td>\n",
              "      <td>-3.948536</td>\n",
              "      <td>8.525481</td>\n",
              "      <td>1.071423</td>\n",
              "      <td>-0.976023</td>\n",
              "      <td>3.029280</td>\n",
              "      <td>5.200235</td>\n",
              "      <td>6.328147</td>\n",
              "      <td>-0.095762</td>\n",
              "      <td>9.057748</td>\n",
              "      <td>-8.150476</td>\n",
              "    </tr>\n",
              "    <tr>\n",
              "      <th>16</th>\n",
              "      <td>-0.338941</td>\n",
              "      <td>-4.183015</td>\n",
              "      <td>-0.629564</td>\n",
              "      <td>9.187619</td>\n",
              "      <td>-8.309402</td>\n",
              "      <td>-3.099928</td>\n",
              "      <td>-2.407774</td>\n",
              "      <td>-4.251589</td>\n",
              "      <td>-9.361255</td>\n",
              "      <td>-5.560687</td>\n",
              "      <td>8.412447</td>\n",
              "      <td>-5.065982</td>\n",
              "      <td>-11.851432</td>\n",
              "      <td>-1.017255</td>\n",
              "      <td>2.071745</td>\n",
              "      <td>-3.878782</td>\n",
              "      <td>11.676779</td>\n",
              "      <td>-6.033457</td>\n",
              "      <td>8.966721</td>\n",
              "      <td>-1.416521</td>\n",
              "      <td>6.296298</td>\n",
              "      <td>4.105206</td>\n",
              "      <td>-6.199444</td>\n",
              "      <td>-7.433079</td>\n",
              "      <td>10.085271</td>\n",
              "      <td>7.178495</td>\n",
              "      <td>5.697593</td>\n",
              "      <td>0.029959</td>\n",
              "      <td>-1.543032</td>\n",
              "      <td>4.790176</td>\n",
              "      <td>-8.366030</td>\n",
              "    </tr>\n",
              "    <tr>\n",
              "      <th>17</th>\n",
              "      <td>-9.242437</td>\n",
              "      <td>2.419548</td>\n",
              "      <td>-3.767978</td>\n",
              "      <td>-9.885509</td>\n",
              "      <td>-6.085018</td>\n",
              "      <td>7.045883</td>\n",
              "      <td>-5.112961</td>\n",
              "      <td>-10.462379</td>\n",
              "      <td>-5.726722</td>\n",
              "      <td>8.440381</td>\n",
              "      <td>3.383846</td>\n",
              "      <td>-0.628541</td>\n",
              "      <td>0.106296</td>\n",
              "      <td>7.074988</td>\n",
              "      <td>1.590313</td>\n",
              "      <td>1.039653</td>\n",
              "      <td>5.406913</td>\n",
              "      <td>8.330395</td>\n",
              "      <td>-8.088474</td>\n",
              "      <td>-5.724626</td>\n",
              "      <td>4.731639</td>\n",
              "      <td>1.087613</td>\n",
              "      <td>-2.804486</td>\n",
              "      <td>4.515113</td>\n",
              "      <td>2.116554</td>\n",
              "      <td>-3.232829</td>\n",
              "      <td>3.993406</td>\n",
              "      <td>-4.566710</td>\n",
              "      <td>7.909607</td>\n",
              "      <td>-8.837821</td>\n",
              "      <td>4.839096</td>\n",
              "    </tr>\n",
              "    <tr>\n",
              "      <th>18</th>\n",
              "      <td>1.965417</td>\n",
              "      <td>8.716419</td>\n",
              "      <td>9.375249</td>\n",
              "      <td>5.790205</td>\n",
              "      <td>-8.410881</td>\n",
              "      <td>5.599569</td>\n",
              "      <td>-2.168574</td>\n",
              "      <td>-1.647414</td>\n",
              "      <td>2.777251</td>\n",
              "      <td>-5.296539</td>\n",
              "      <td>-5.699385</td>\n",
              "      <td>4.713299</td>\n",
              "      <td>7.054467</td>\n",
              "      <td>7.714198</td>\n",
              "      <td>4.741790</td>\n",
              "      <td>-10.769548</td>\n",
              "      <td>-7.277651</td>\n",
              "      <td>5.218124</td>\n",
              "      <td>-6.196900</td>\n",
              "      <td>-5.940891</td>\n",
              "      <td>7.275594</td>\n",
              "      <td>9.731292</td>\n",
              "      <td>0.432533</td>\n",
              "      <td>-7.282807</td>\n",
              "      <td>6.264790</td>\n",
              "      <td>-1.369223</td>\n",
              "      <td>3.013251</td>\n",
              "      <td>7.945789</td>\n",
              "      <td>-0.472272</td>\n",
              "      <td>0.140299</td>\n",
              "      <td>17.432838</td>\n",
              "    </tr>\n",
              "    <tr>\n",
              "      <th>19</th>\n",
              "      <td>-0.743153</td>\n",
              "      <td>2.750964</td>\n",
              "      <td>-4.854307</td>\n",
              "      <td>-4.363400</td>\n",
              "      <td>7.058981</td>\n",
              "      <td>-10.329629</td>\n",
              "      <td>-4.447041</td>\n",
              "      <td>-5.956028</td>\n",
              "      <td>-4.861967</td>\n",
              "      <td>4.384536</td>\n",
              "      <td>-7.682622</td>\n",
              "      <td>-2.889255</td>\n",
              "      <td>2.537007</td>\n",
              "      <td>-3.486527</td>\n",
              "      <td>-1.815604</td>\n",
              "      <td>4.252861</td>\n",
              "      <td>7.223662</td>\n",
              "      <td>-1.452498</td>\n",
              "      <td>-8.815207</td>\n",
              "      <td>6.610371</td>\n",
              "      <td>6.084668</td>\n",
              "      <td>-2.129684</td>\n",
              "      <td>3.867277</td>\n",
              "      <td>-2.631904</td>\n",
              "      <td>4.529247</td>\n",
              "      <td>-6.870382</td>\n",
              "      <td>-8.136903</td>\n",
              "      <td>8.508928</td>\n",
              "      <td>8.936912</td>\n",
              "      <td>-6.792908</td>\n",
              "      <td>5.501927</td>\n",
              "    </tr>\n",
              "    <tr>\n",
              "      <th>20</th>\n",
              "      <td>3.252364</td>\n",
              "      <td>8.476900</td>\n",
              "      <td>7.685081</td>\n",
              "      <td>4.669895</td>\n",
              "      <td>-10.296854</td>\n",
              "      <td>3.537993</td>\n",
              "      <td>-2.316037</td>\n",
              "      <td>1.349855</td>\n",
              "      <td>-0.089812</td>\n",
              "      <td>-6.608630</td>\n",
              "      <td>-5.870346</td>\n",
              "      <td>3.419123</td>\n",
              "      <td>5.680170</td>\n",
              "      <td>8.202471</td>\n",
              "      <td>5.332923</td>\n",
              "      <td>-8.522244</td>\n",
              "      <td>-8.282126</td>\n",
              "      <td>5.514419</td>\n",
              "      <td>-5.982427</td>\n",
              "      <td>-1.846859</td>\n",
              "      <td>5.234758</td>\n",
              "      <td>9.394604</td>\n",
              "      <td>0.710815</td>\n",
              "      <td>-7.157661</td>\n",
              "      <td>3.770566</td>\n",
              "      <td>-0.664242</td>\n",
              "      <td>4.261563</td>\n",
              "      <td>7.525295</td>\n",
              "      <td>-2.526962</td>\n",
              "      <td>0.930276</td>\n",
              "      <td>16.953799</td>\n",
              "    </tr>\n",
              "    <tr>\n",
              "      <th>21</th>\n",
              "      <td>-0.743826</td>\n",
              "      <td>3.328204</td>\n",
              "      <td>-3.843580</td>\n",
              "      <td>-3.243046</td>\n",
              "      <td>7.054084</td>\n",
              "      <td>-7.806270</td>\n",
              "      <td>-3.774971</td>\n",
              "      <td>-5.622792</td>\n",
              "      <td>-5.641728</td>\n",
              "      <td>4.481604</td>\n",
              "      <td>-8.208922</td>\n",
              "      <td>-1.839074</td>\n",
              "      <td>2.714770</td>\n",
              "      <td>-4.107800</td>\n",
              "      <td>-3.941335</td>\n",
              "      <td>1.199401</td>\n",
              "      <td>6.787732</td>\n",
              "      <td>-2.165113</td>\n",
              "      <td>-10.974136</td>\n",
              "      <td>8.765694</td>\n",
              "      <td>6.451036</td>\n",
              "      <td>-2.023841</td>\n",
              "      <td>3.842666</td>\n",
              "      <td>-0.932190</td>\n",
              "      <td>4.288044</td>\n",
              "      <td>-7.556277</td>\n",
              "      <td>-8.685980</td>\n",
              "      <td>8.912698</td>\n",
              "      <td>8.284975</td>\n",
              "      <td>-7.252767</td>\n",
              "      <td>6.656407</td>\n",
              "    </tr>\n",
              "    <tr>\n",
              "      <th>22</th>\n",
              "      <td>-8.936082</td>\n",
              "      <td>5.370005</td>\n",
              "      <td>-1.615934</td>\n",
              "      <td>-10.529493</td>\n",
              "      <td>-6.339307</td>\n",
              "      <td>9.646492</td>\n",
              "      <td>-7.205817</td>\n",
              "      <td>-8.370908</td>\n",
              "      <td>-5.060141</td>\n",
              "      <td>9.544334</td>\n",
              "      <td>2.424045</td>\n",
              "      <td>0.976795</td>\n",
              "      <td>1.949455</td>\n",
              "      <td>5.767333</td>\n",
              "      <td>0.028790</td>\n",
              "      <td>2.339043</td>\n",
              "      <td>4.476108</td>\n",
              "      <td>8.124368</td>\n",
              "      <td>-8.871857</td>\n",
              "      <td>-4.167870</td>\n",
              "      <td>6.570995</td>\n",
              "      <td>0.885514</td>\n",
              "      <td>-2.263026</td>\n",
              "      <td>4.445525</td>\n",
              "      <td>3.402948</td>\n",
              "      <td>-2.779799</td>\n",
              "      <td>5.895071</td>\n",
              "      <td>-5.020738</td>\n",
              "      <td>7.299085</td>\n",
              "      <td>-10.581130</td>\n",
              "      <td>10.740010</td>\n",
              "    </tr>\n",
              "    <tr>\n",
              "      <th>23</th>\n",
              "      <td>1.831008</td>\n",
              "      <td>5.953675</td>\n",
              "      <td>8.246409</td>\n",
              "      <td>7.593712</td>\n",
              "      <td>-9.372287</td>\n",
              "      <td>2.431934</td>\n",
              "      <td>-3.565686</td>\n",
              "      <td>0.803389</td>\n",
              "      <td>4.265467</td>\n",
              "      <td>-5.044311</td>\n",
              "      <td>-4.519522</td>\n",
              "      <td>3.615451</td>\n",
              "      <td>5.678657</td>\n",
              "      <td>6.683852</td>\n",
              "      <td>6.058367</td>\n",
              "      <td>-9.226145</td>\n",
              "      <td>-7.081476</td>\n",
              "      <td>5.227283</td>\n",
              "      <td>-4.300678</td>\n",
              "      <td>-6.816976</td>\n",
              "      <td>6.009280</td>\n",
              "      <td>7.877073</td>\n",
              "      <td>1.815516</td>\n",
              "      <td>-6.377594</td>\n",
              "      <td>3.827046</td>\n",
              "      <td>0.187602</td>\n",
              "      <td>5.257326</td>\n",
              "      <td>6.856747</td>\n",
              "      <td>-1.185747</td>\n",
              "      <td>-0.690576</td>\n",
              "      <td>11.907350</td>\n",
              "    </tr>\n",
              "    <tr>\n",
              "      <th>24</th>\n",
              "      <td>-0.881823</td>\n",
              "      <td>-6.297066</td>\n",
              "      <td>1.055189</td>\n",
              "      <td>9.513313</td>\n",
              "      <td>-5.803011</td>\n",
              "      <td>-2.261216</td>\n",
              "      <td>-2.026298</td>\n",
              "      <td>-4.609531</td>\n",
              "      <td>-8.962949</td>\n",
              "      <td>-5.020398</td>\n",
              "      <td>8.712148</td>\n",
              "      <td>-5.859188</td>\n",
              "      <td>-9.915921</td>\n",
              "      <td>-1.323769</td>\n",
              "      <td>2.900893</td>\n",
              "      <td>-2.269659</td>\n",
              "      <td>9.082347</td>\n",
              "      <td>-8.341177</td>\n",
              "      <td>8.945681</td>\n",
              "      <td>-1.405342</td>\n",
              "      <td>7.397122</td>\n",
              "      <td>1.550113</td>\n",
              "      <td>-6.392682</td>\n",
              "      <td>-8.949903</td>\n",
              "      <td>10.322494</td>\n",
              "      <td>7.668289</td>\n",
              "      <td>5.123109</td>\n",
              "      <td>-0.541596</td>\n",
              "      <td>-1.076814</td>\n",
              "      <td>6.636485</td>\n",
              "      <td>-12.594133</td>\n",
              "    </tr>\n",
              "    <tr>\n",
              "      <th>25</th>\n",
              "      <td>4.687591</td>\n",
              "      <td>1.964030</td>\n",
              "      <td>-4.318632</td>\n",
              "      <td>-6.657487</td>\n",
              "      <td>6.250372</td>\n",
              "      <td>-1.859081</td>\n",
              "      <td>-3.745942</td>\n",
              "      <td>-0.648608</td>\n",
              "      <td>-5.544115</td>\n",
              "      <td>-3.955116</td>\n",
              "      <td>2.556554</td>\n",
              "      <td>0.775319</td>\n",
              "      <td>-4.915167</td>\n",
              "      <td>-3.757591</td>\n",
              "      <td>-5.216452</td>\n",
              "      <td>1.569907</td>\n",
              "      <td>-5.098295</td>\n",
              "      <td>1.329193</td>\n",
              "      <td>5.352589</td>\n",
              "      <td>-8.614228</td>\n",
              "      <td>2.355565</td>\n",
              "      <td>-1.863901</td>\n",
              "      <td>5.528922</td>\n",
              "      <td>5.427793</td>\n",
              "      <td>4.842285</td>\n",
              "      <td>1.616760</td>\n",
              "      <td>1.661521</td>\n",
              "      <td>4.056705</td>\n",
              "      <td>-1.509503</td>\n",
              "      <td>0.893912</td>\n",
              "      <td>3.928060</td>\n",
              "    </tr>\n",
              "    <tr>\n",
              "      <th>26</th>\n",
              "      <td>-5.455650</td>\n",
              "      <td>-1.353143</td>\n",
              "      <td>-7.872967</td>\n",
              "      <td>6.848080</td>\n",
              "      <td>8.186665</td>\n",
              "      <td>-9.588140</td>\n",
              "      <td>8.833624</td>\n",
              "      <td>6.875184</td>\n",
              "      <td>6.300506</td>\n",
              "      <td>3.792914</td>\n",
              "      <td>-6.609420</td>\n",
              "      <td>-2.399243</td>\n",
              "      <td>8.510958</td>\n",
              "      <td>-2.751800</td>\n",
              "      <td>-7.983799</td>\n",
              "      <td>-6.930666</td>\n",
              "      <td>-0.080971</td>\n",
              "      <td>-10.031584</td>\n",
              "      <td>2.566166</td>\n",
              "      <td>-9.073774</td>\n",
              "      <td>-2.250290</td>\n",
              "      <td>-8.219718</td>\n",
              "      <td>2.375739</td>\n",
              "      <td>-3.780353</td>\n",
              "      <td>3.932275</td>\n",
              "      <td>4.400680</td>\n",
              "      <td>-4.564750</td>\n",
              "      <td>-10.441086</td>\n",
              "      <td>9.820258</td>\n",
              "      <td>4.294360</td>\n",
              "      <td>-2.706285</td>\n",
              "    </tr>\n",
              "    <tr>\n",
              "      <th>27</th>\n",
              "      <td>-0.150457</td>\n",
              "      <td>-8.505636</td>\n",
              "      <td>4.823885</td>\n",
              "      <td>1.747293</td>\n",
              "      <td>6.136866</td>\n",
              "      <td>0.829793</td>\n",
              "      <td>-1.551030</td>\n",
              "      <td>-5.854840</td>\n",
              "      <td>0.094501</td>\n",
              "      <td>-7.846596</td>\n",
              "      <td>3.853161</td>\n",
              "      <td>9.150670</td>\n",
              "      <td>7.058336</td>\n",
              "      <td>8.741141</td>\n",
              "      <td>-2.226148</td>\n",
              "      <td>3.160307</td>\n",
              "      <td>0.031363</td>\n",
              "      <td>3.565790</td>\n",
              "      <td>-4.223166</td>\n",
              "      <td>2.649730</td>\n",
              "      <td>-8.467007</td>\n",
              "      <td>6.299310</td>\n",
              "      <td>-2.988786</td>\n",
              "      <td>-6.437064</td>\n",
              "      <td>-2.723243</td>\n",
              "      <td>-6.063129</td>\n",
              "      <td>8.614419</td>\n",
              "      <td>-2.656829</td>\n",
              "      <td>-7.512800</td>\n",
              "      <td>-10.204513</td>\n",
              "      <td>-17.011271</td>\n",
              "    </tr>\n",
              "    <tr>\n",
              "      <th>28</th>\n",
              "      <td>5.049967</td>\n",
              "      <td>5.147778</td>\n",
              "      <td>-9.399190</td>\n",
              "      <td>-8.859536</td>\n",
              "      <td>6.929158</td>\n",
              "      <td>-0.811010</td>\n",
              "      <td>7.937823</td>\n",
              "      <td>0.869041</td>\n",
              "      <td>5.933044</td>\n",
              "      <td>-1.126851</td>\n",
              "      <td>6.608875</td>\n",
              "      <td>-2.612521</td>\n",
              "      <td>-2.897704</td>\n",
              "      <td>-1.660040</td>\n",
              "      <td>-3.368873</td>\n",
              "      <td>6.981722</td>\n",
              "      <td>-1.006344</td>\n",
              "      <td>-2.279191</td>\n",
              "      <td>-1.045484</td>\n",
              "      <td>-0.740846</td>\n",
              "      <td>3.246506</td>\n",
              "      <td>-7.364410</td>\n",
              "      <td>3.980317</td>\n",
              "      <td>-4.882070</td>\n",
              "      <td>9.248479</td>\n",
              "      <td>-5.469002</td>\n",
              "      <td>6.002523</td>\n",
              "      <td>-3.570337</td>\n",
              "      <td>-6.437190</td>\n",
              "      <td>4.287559</td>\n",
              "      <td>10.295556</td>\n",
              "    </tr>\n",
              "  </tbody>\n",
              "</table>\n",
              "</div>"
            ],
            "text/plain": [
              "          0         1          2   ...         28         29         30\n",
              "0   5.779841  9.590162   7.580040  ...   4.126644   2.942146  19.180325\n",
              "1  -1.969309 -5.779929  -0.479035  ...  -0.446152   7.465699 -11.559858\n",
              "2   3.599102  3.524340  -6.054480  ...  -2.706058   2.749403   7.048680\n",
              "3   2.610732  2.268904  -4.365511  ...  -0.405857   0.589666   4.537807\n",
              "4   1.229763  6.218683   6.069170  ...  -0.572961   7.252844  12.437365\n",
              "5   3.435373  7.708053   6.786980  ...  -1.255080   0.694586  15.416105\n",
              "6   4.991551  5.905445 -10.446282  ...  -6.857768   4.900560  11.810890\n",
              "7  -0.281011  3.729231  -3.738418  ...   6.906919  -7.001860   7.458461\n",
              "8   1.332526 -1.362073  -1.314269  ...  10.897084   3.203462  -2.724146\n",
              "9  -7.291176 -3.494502  -6.785769  ...  10.823938   2.765104  -6.989004\n",
              "10  1.992539  7.380734   7.784629  ...  -0.314992   8.707140  14.761468\n",
              "11 -7.269399 -0.810163  -7.617953  ...  10.410190   3.381457  -1.620327\n",
              "12  5.154073  7.414485   7.346905  ...   3.433873   2.582103  14.828970\n",
              "13  5.503952  7.261290  -8.884586  ...  -9.171554   5.818986  14.522580\n",
              "14 -2.157073 -5.879926   0.197789  ...  -1.326380   6.841101 -11.759851\n",
              "15 -0.882619 -4.075238  -2.281913  ...  -0.095762   9.057748  -8.150476\n",
              "16 -0.338941 -4.183015  -0.629564  ...  -1.543032   4.790176  -8.366030\n",
              "17 -9.242437  2.419548  -3.767978  ...   7.909607  -8.837821   4.839096\n",
              "18  1.965417  8.716419   9.375249  ...  -0.472272   0.140299  17.432838\n",
              "19 -0.743153  2.750964  -4.854307  ...   8.936912  -6.792908   5.501927\n",
              "20  3.252364  8.476900   7.685081  ...  -2.526962   0.930276  16.953799\n",
              "21 -0.743826  3.328204  -3.843580  ...   8.284975  -7.252767   6.656407\n",
              "22 -8.936082  5.370005  -1.615934  ...   7.299085 -10.581130  10.740010\n",
              "23  1.831008  5.953675   8.246409  ...  -1.185747  -0.690576  11.907350\n",
              "24 -0.881823 -6.297066   1.055189  ...  -1.076814   6.636485 -12.594133\n",
              "25  4.687591  1.964030  -4.318632  ...  -1.509503   0.893912   3.928060\n",
              "26 -5.455650 -1.353143  -7.872967  ...   9.820258   4.294360  -2.706285\n",
              "27 -0.150457 -8.505636   4.823885  ...  -7.512800 -10.204513 -17.011271\n",
              "28  5.049967  5.147778  -9.399190  ...  -6.437190   4.287559  10.295556\n",
              "\n",
              "[29 rows x 31 columns]"
            ]
          },
          "metadata": {
            "tags": []
          },
          "execution_count": 48
        }
      ]
    },
    {
      "cell_type": "markdown",
      "metadata": {
        "id": "Krv_ewQEQ0Zt"
      },
      "source": [
        "#### Kmean"
      ]
    },
    {
      "cell_type": "markdown",
      "metadata": {
        "id": "DMKFrCDcRH4F"
      },
      "source": [
        "##### Import"
      ]
    },
    {
      "cell_type": "code",
      "metadata": {
        "id": "jUARadkFEuyJ"
      },
      "source": [
        "from sklearn.cluster import KMeans"
      ],
      "execution_count": 49,
      "outputs": []
    },
    {
      "cell_type": "markdown",
      "metadata": {
        "id": "7lMsPSSKRaeG"
      },
      "source": [
        "##### Define"
      ]
    },
    {
      "cell_type": "code",
      "metadata": {
        "id": "_uXElenZRLgl"
      },
      "source": [
        "kmeans = KMeans(random_state=2021)"
      ],
      "execution_count": 50,
      "outputs": []
    },
    {
      "cell_type": "markdown",
      "metadata": {
        "id": "nn-ZUL2NRy8U"
      },
      "source": [
        "##### Fit - Transform"
      ]
    },
    {
      "cell_type": "code",
      "metadata": {
        "id": "E47HiwYNRcIE",
        "colab": {
          "base_uri": "https://localhost:8080/"
        },
        "outputId": "77d28aae-e648-447a-e3b8-3b8811ea6352"
      },
      "source": [
        "kmeans.fit(Data) # เเสดง จุด cluster centers ที่คำนวณออกมาได้"
      ],
      "execution_count": 51,
      "outputs": [
        {
          "output_type": "execute_result",
          "data": {
            "text/plain": [
              "KMeans(algorithm='auto', copy_x=True, init='k-means++', max_iter=300,\n",
              "       n_clusters=8, n_init=10, n_jobs=None, precompute_distances='auto',\n",
              "       random_state=2021, tol=0.0001, verbose=0)"
            ]
          },
          "metadata": {
            "tags": []
          },
          "execution_count": 51
        }
      ]
    },
    {
      "cell_type": "code",
      "metadata": {
        "id": "tRfgSQ3SR0kj",
        "colab": {
          "base_uri": "https://localhost:8080/"
        },
        "outputId": "0dbb3e25-9644-4342-b4a9-aaab06c11364"
      },
      "source": [
        "kmeans.cluster_centers_"
      ],
      "execution_count": 52,
      "outputs": [
        {
          "output_type": "execute_result",
          "data": {
            "text/plain": [
              "array([[ 2.68465309e+00,  5.51281836e+00,  1.59377799e+00,\n",
              "        -1.14098972e+00, -1.96321082e+00,  1.74906213e+00,\n",
              "        -2.92547218e+00,  3.21082773e-01, -7.86961544e-01,\n",
              "        -4.97237840e+00, -1.00286744e+00,  2.73316601e+00,\n",
              "         9.96214564e-01,  2.42519924e+00,  3.65427957e-01,\n",
              "        -3.81964919e+00, -7.21604655e+00,  3.49292498e+00,\n",
              "         6.24430114e-01, -5.86822571e+00,  5.92854052e+00,\n",
              "         3.57690327e+00,  3.41999915e+00, -1.50558073e-01,\n",
              "         5.58089454e+00,  8.29768864e-01,  2.99271943e+00,\n",
              "         4.86660992e+00, -1.14473884e+00,  9.69344807e-02,\n",
              "         1.10256367e+01,  2.48467240e+00],\n",
              "       [ 4.81312383e+00, -7.13526097e+00, -3.80883929e+00,\n",
              "         1.34899279e+00,  4.99552690e+00,  9.41670956e+00,\n",
              "         5.96973041e+00,  8.03495698e-01, -4.28205996e+00,\n",
              "        -5.63031415e-01,  1.02225355e+00, -1.86353837e-01,\n",
              "         3.53121455e+00,  2.77303843e+00,  6.18565004e+00,\n",
              "         3.71192715e+00, -9.26798331e-01,  5.98123956e+00,\n",
              "         7.09309317e+00, -2.07949493e+00, -6.14410957e+00,\n",
              "         2.59929500e+00,  7.50546927e+00,  2.52207707e+00,\n",
              "         2.85896790e+00, -1.30731376e+00, -2.02372662e+00,\n",
              "         5.16906225e+00, -8.12805551e-01,  7.12300937e+00,\n",
              "        -1.42705219e+01,  3.76150469e+01],\n",
              "       [-2.20654530e+00, -2.71520989e+00, -5.25655755e+00,\n",
              "         8.73152609e+00,  3.54059876e+00, -3.81382963e+00,\n",
              "         2.16209305e+00,  3.27375767e+00,  5.31289425e+00,\n",
              "         1.81483001e+00, -1.66088912e+00,  1.30552043e+00,\n",
              "         1.98654695e-01, -4.96147042e-01, -6.74612972e+00,\n",
              "         3.86215556e-01,  2.42550227e+00, -1.16053309e-01,\n",
              "         3.03964493e+00, -1.95416182e+00,  5.65719443e-01,\n",
              "        -4.30300249e+00, -2.07160672e+00, -1.31274482e+00,\n",
              "        -5.49598600e-01, -3.59699358e+00, -4.81467990e+00,\n",
              "         2.19224861e+00,  5.29228711e+00,  2.65470938e+00,\n",
              "        -5.43041979e+00,  1.52735469e+01],\n",
              "       [-5.17455588e+00,  4.63943221e+00, -3.58502424e+00,\n",
              "        -6.34412720e+00,  1.36017695e-01, -5.24607199e-01,\n",
              "        -5.34796908e+00, -6.98316353e+00, -5.63979716e+00,\n",
              "         6.54583672e+00, -2.49554260e+00, -3.76723333e-01,\n",
              "         1.52643596e+00,  1.76242093e+00, -1.52019157e+00,\n",
              "         2.69437993e+00,  6.31763543e+00,  3.65433830e+00,\n",
              "        -9.11019074e+00,  1.46597803e+00,  6.34496892e+00,\n",
              "        -5.45534056e-01,  5.12176313e-02,  1.36419787e+00,\n",
              "         3.28280588e+00, -5.50013226e+00, -1.88787064e+00,\n",
              "         1.82253433e+00,  7.36642560e+00, -8.17814678e+00,\n",
              "         9.27886441e+00, -3.88907339e+01],\n",
              "       [ 1.39369933e-01, -9.25556758e+00,  4.16953873e+00,\n",
              "         2.43055360e+00,  5.59929716e+00, -7.97831611e-01,\n",
              "        -2.34708452e+00, -4.13318816e+00,  1.15214293e+00,\n",
              "        -8.38671715e+00,  2.66842518e+00,  8.86054537e+00,\n",
              "         7.91370491e+00,  7.57670024e+00, -3.07877474e+00,\n",
              "         4.14666835e+00,  5.25158309e-01,  3.15500174e+00,\n",
              "        -4.63206804e+00,  2.13812890e+00, -9.01601980e+00,\n",
              "         3.89922099e+00, -3.93908874e+00, -6.65598202e+00,\n",
              "        -3.39278386e+00, -6.66020481e+00,  8.27822913e+00,\n",
              "        -4.34192487e+00, -7.84861947e+00, -7.71558455e+00,\n",
              "        -1.85111352e+01, -3.65779228e+01],\n",
              "       [ 1.11882662e+00,  5.70180421e+00,  6.53003575e+00,\n",
              "         6.39473900e+00, -8.86661473e+00,  7.82567735e+00,\n",
              "         9.01234128e+00, -5.56792339e+00,  5.49501630e+00,\n",
              "        -1.68377145e+00, -6.48035348e-01,  3.57381645e+00,\n",
              "         8.65973072e+00,  7.13283981e+00,  9.17174393e+00,\n",
              "         2.72648675e+00, -8.66468619e+00,  7.42393841e+00,\n",
              "        -2.78598559e+00,  2.82037774e+00,  8.09746007e+00,\n",
              "         1.99539655e-01,  7.21285145e+00,  9.99636702e+00,\n",
              "         9.95869971e+00, -4.01876461e+00, -4.97001017e+00,\n",
              "        -5.63391597e+00, -6.88945047e-01,  7.54750904e+00,\n",
              "         1.14036084e+01,  3.97375452e+01],\n",
              "       [-1.25182865e+00, -5.65001606e+00, -6.68718408e-02,\n",
              "         8.50882576e+00, -7.81497996e+00, -2.23833374e+00,\n",
              "        -2.01320337e+00, -3.83564590e+00, -8.83057807e+00,\n",
              "        -5.81961498e+00,  8.69328610e+00, -5.21878630e+00,\n",
              "        -9.79833541e+00, -1.51864355e+00,  2.42746308e+00,\n",
              "        -2.81570858e+00,  9.21235044e+00, -7.02651140e+00,\n",
              "         9.01830422e+00, -4.02409145e-01,  6.16003667e+00,\n",
              "         2.64773454e+00, -6.42987464e+00, -9.20427494e+00,\n",
              "         8.89063792e+00,  7.83350453e+00,  4.63756584e+00,\n",
              "        -7.92847926e-01, -1.62668788e+00,  6.79325353e+00,\n",
              "        -1.13000321e+01,  3.59662676e+01],\n",
              "       [ 5.09205490e+00,  7.97573078e+00, -1.40632115e+00,\n",
              "        -6.56781348e+00,  1.31460514e+00, -1.75757522e+00,\n",
              "         9.05694681e+00,  2.21984798e+00,  6.79369856e+00,\n",
              "        -5.63796542e+00,  5.90341391e+00, -6.08704321e+00,\n",
              "        -6.01661765e+00, -5.62389416e+00, -3.96578763e+00,\n",
              "         1.72787572e+00,  3.33850219e+00,  2.78285833e+00,\n",
              "         2.26062014e-02,  2.41072522e+00, -3.06053172e+00,\n",
              "        -5.45659315e-01, -1.91960865e+00, -5.70292766e+00,\n",
              "         8.94619242e+00, -6.07156232e+00,  6.11140606e+00,\n",
              "        -1.19390876e+00, -2.14049082e+00,  4.23902229e+00,\n",
              "         1.59514616e+01,  2.31951115e+01]])"
            ]
          },
          "metadata": {
            "tags": []
          },
          "execution_count": 52
        }
      ]
    },
    {
      "cell_type": "markdown",
      "metadata": {
        "id": "ZIoSj01YSeZt"
      },
      "source": [
        "#### ทดสอบการจัดกลุ่มของ Data"
      ]
    },
    {
      "cell_type": "code",
      "metadata": {
        "id": "F-XO3hl5SZ0n",
        "colab": {
          "base_uri": "https://localhost:8080/"
        },
        "outputId": "04e850e7-729b-4852-c4f6-12202104d6a2"
      },
      "source": [
        "y = kmeans.predict(Data)\n",
        "y"
      ],
      "execution_count": 53,
      "outputs": [
        {
          "output_type": "execute_result",
          "data": {
            "text/plain": [
              "array([7, 6, 0, ..., 2, 7, 7], dtype=int32)"
            ]
          },
          "metadata": {
            "tags": []
          },
          "execution_count": 53
        }
      ]
    },
    {
      "cell_type": "markdown",
      "metadata": {
        "id": "7-rgA-VOm3VH"
      },
      "source": [
        "## ทำ PCA เพื่อลด Dimension ของข้อมูลเนื่องจากมีจำนวน Dimension ที่เยอะเกินไป\n"
      ]
    },
    {
      "cell_type": "markdown",
      "metadata": {
        "id": "DfQa5KEznDNG"
      },
      "source": [
        "###### Import"
      ]
    },
    {
      "cell_type": "code",
      "metadata": {
        "id": "iXYLBPszSmS9"
      },
      "source": [
        "from sklearn.decomposition import PCA"
      ],
      "execution_count": 54,
      "outputs": []
    },
    {
      "cell_type": "markdown",
      "metadata": {
        "id": "CgFkumIAnr0e"
      },
      "source": [
        "##### Define"
      ]
    },
    {
      "cell_type": "code",
      "metadata": {
        "id": "efgbEz1pnqWa"
      },
      "source": [
        "pca = PCA(n_components=2)"
      ],
      "execution_count": 55,
      "outputs": []
    },
    {
      "cell_type": "markdown",
      "metadata": {
        "id": "cRtk6fVIn4tf"
      },
      "source": [
        "#####  Fit - Transform"
      ]
    },
    {
      "cell_type": "code",
      "metadata": {
        "id": "h_ghrXyDnut2"
      },
      "source": [
        "new_pca = pca.fit_transform(Data)"
      ],
      "execution_count": 56,
      "outputs": []
    },
    {
      "cell_type": "code",
      "metadata": {
        "id": "DA_tkXjhn9Ed",
        "colab": {
          "base_uri": "https://localhost:8080/"
        },
        "outputId": "13b52194-9212-4cde-8acc-4c3f0757f422"
      },
      "source": [
        "new_pca.shape "
      ],
      "execution_count": 75,
      "outputs": [
        {
          "output_type": "execute_result",
          "data": {
            "text/plain": [
              "(10000, 2)"
            ]
          },
          "metadata": {
            "tags": []
          },
          "execution_count": 75
        }
      ]
    },
    {
      "cell_type": "code",
      "metadata": {
        "id": "SrpgMh4GoBb2"
      },
      "source": [
        "from matplotlib import pyplot as plt"
      ],
      "execution_count": 58,
      "outputs": []
    },
    {
      "cell_type": "code",
      "metadata": {
        "id": "58avznHooKEm",
        "colab": {
          "base_uri": "https://localhost:8080/",
          "height": 282
        },
        "outputId": "8e35d3b4-ebe6-4e98-b056-33df13ebe205"
      },
      "source": [
        "kmeans = KMeans(n_clusters=3,random_state=2021)\n",
        "kmeans.fit(Data)\n",
        "y = kmeans.predict(Data)\n",
        "plt.scatter(new_pca[:,0],new_pca[:,1],c=y)"
      ],
      "execution_count": 74,
      "outputs": [
        {
          "output_type": "execute_result",
          "data": {
            "text/plain": [
              "<matplotlib.collections.PathCollection at 0x7f335e70a090>"
            ]
          },
          "metadata": {
            "tags": []
          },
          "execution_count": 74
        },
        {
          "output_type": "display_data",
          "data": {
            "image/png": "[encoded data removed]",
            "text/plain": [
              "<Figure size 432x288 with 1 Axes>"
            ]
          },
          "metadata": {
            "tags": [],
            "needs_background": "light"
          }
        }
      ]
    },
    {
      "cell_type": "code",
      "metadata": {
        "id": "rQmjterxrRou",
        "colab": {
          "base_uri": "https://localhost:8080/",
          "height": 282
        },
        "outputId": "97d324cf-16b3-4884-8dcf-01c940178750"
      },
      "source": [
        "plt.scatter(new_pca[:,0],new_pca[:,1],c=y) # cluster center\n",
        "plt.plot(kmeans.cluster_centers_[:,0],kmeans.cluster_centers_[:,1],'or')"
      ],
      "execution_count": 60,
      "outputs": [
        {
          "output_type": "execute_result",
          "data": {
            "text/plain": [
              "[<matplotlib.lines.Line2D at 0x7f335e8d28d0>]"
            ]
          },
          "metadata": {
            "tags": []
          },
          "execution_count": 60
        },
        {
          "output_type": "display_data",
          "data": {
            "image/png": "[encoded data removed]",
            "text/plain": [
              "<Figure size 432x288 with 1 Axes>"
            ]
          },
          "metadata": {
            "tags": [],
            "needs_background": "light"
          }
        }
      ]
    },
    {
      "cell_type": "markdown",
      "metadata": {
        "id": "d--8mPoJqCwu"
      },
      "source": [
        "##### SSE (Sum of Squared Errors)\n",
        "SSE คือ ความไม่ใกล้เคียงกับจุดศูนย์กลางมากน้อยเท่าไหน"
      ]
    },
    {
      "cell_type": "code",
      "metadata": {
        "id": "ArxcxHCHpA9W",
        "colab": {
          "base_uri": "https://localhost:8080/"
        },
        "outputId": "5c75b8e7-f008-4c69-f2a3-619ef3429d86"
      },
      "source": [
        "kmeans.inertia_"
      ],
      "execution_count": 61,
      "outputs": [
        {
          "output_type": "execute_result",
          "data": {
            "text/plain": [
              "10192922.646103252"
            ]
          },
          "metadata": {
            "tags": []
          },
          "execution_count": 61
        }
      ]
    },
    {
      "cell_type": "code",
      "metadata": {
        "id": "Ms9cXzLYqLAm"
      },
      "source": [
        "SSE = list()\n",
        "for k in [1,2,3,4,5,6,7,8]:\n",
        "    kmeans = KMeans(n_clusters=k,random_state=2021)\n",
        "    kmeans.fit(Data)\n",
        "    SSE.append(kmeans.inertia_)"
      ],
      "execution_count": 62,
      "outputs": []
    },
    {
      "cell_type": "code",
      "metadata": {
        "id": "ecB6mn_tqXUF",
        "colab": {
          "base_uri": "https://localhost:8080/"
        },
        "outputId": "205e7a5f-f34a-4b86-fe68-4543a1459a60"
      },
      "source": [
        "SSE"
      ],
      "execution_count": 63,
      "outputs": [
        {
          "output_type": "execute_result",
          "data": {
            "text/plain": [
              "[19492074.617149524,\n",
              " 12287226.791411135,\n",
              " 10192922.646103252,\n",
              " 8882237.446246957,\n",
              " 7776083.319813388,\n",
              " 6741366.527387712,\n",
              " 5648010.760576062,\n",
              " 4633939.742169999]"
            ]
          },
          "metadata": {
            "tags": []
          },
          "execution_count": 63
        }
      ]
    },
    {
      "cell_type": "code",
      "metadata": {
        "id": "E8x2dwaKqaSV",
        "colab": {
          "base_uri": "https://localhost:8080/",
          "height": 290
        },
        "outputId": "391d1731-fba3-463d-a40e-8d4002d99289"
      },
      "source": [
        "plt.plot([1,2,3,4,5,6,7,8],SSE,'o-b') \n",
        "plt.xlabel('k')\n",
        "plt.ylabel('SSE');"
      ],
      "execution_count": 64,
      "outputs": [
        {
          "output_type": "display_data",
          "data": {
            "image/png": "[encoded data removed]",
            "text/plain": [
              "<Figure size 432x288 with 1 Axes>"
            ]
          },
          "metadata": {
            "tags": [],
            "needs_background": "light"
          }
        }
      ]
    },
    {
      "cell_type": "markdown",
      "metadata": {
        "id": "tWU_chGfr56A"
      },
      "source": [
        "## Silhouette coefficient  คือ วิธีไว้ใช้หาจำนวน k ที่เหมาะสมที่สุด"
      ]
    },
    {
      "cell_type": "code",
      "metadata": {
        "id": "dEhYzdhxqeBW"
      },
      "source": [
        "from sklearn import metrics"
      ],
      "execution_count": 65,
      "outputs": []
    },
    {
      "cell_type": "code",
      "metadata": {
        "id": "7oBPf1f-r_uN"
      },
      "source": [
        "SilH = list()\n",
        "for k in [2,3,4,5,6,7,8]:\n",
        "    kmeans = KMeans(n_clusters=k,random_state=2021)\n",
        "    kmeans.fit(Data)\n",
        "    score = metrics.silhouette_score(Data,kmeans.labels_)\n",
        "    SilH.append(score)"
      ],
      "execution_count": 66,
      "outputs": []
    },
    {
      "cell_type": "code",
      "metadata": {
        "id": "rvNU3vA7shxM",
        "colab": {
          "base_uri": "https://localhost:8080/",
          "height": 280
        },
        "outputId": "8247528e-8165-4bb5-ba14-650acda66ee4"
      },
      "source": [
        "plt.plot([2,3,4,5,6,7,8],SilH,'o-g') # ทำการ Silhouette ดีที่สุดที่ คือ 2\n",
        "plt.xlabel('k')\n",
        "plt.ylabel('Silhouette Score');"
      ],
      "execution_count": 67,
      "outputs": [
        {
          "output_type": "display_data",
          "data": {
            "image/png": "[encoded data removed]",
            "text/plain": [
              "<Figure size 432x288 with 1 Axes>"
            ]
          },
          "metadata": {
            "tags": [],
            "needs_background": "light"
          }
        }
      ]
    },
    {
      "cell_type": "markdown",
      "metadata": {
        "id": "NNfZpy_9vToQ"
      },
      "source": [
        "# 3. ลด Dimension ของข้อมูลเหลือ 2 มิติ แล้วทำ clustering แล้ว visualize ข้อมูลแบบ 2 มิติ"
      ]
    },
    {
      "cell_type": "code",
      "metadata": {
        "id": "LtFNwZ4csohd"
      },
      "source": [
        "from sklearn.manifold import MDS"
      ],
      "execution_count": 68,
      "outputs": []
    },
    {
      "cell_type": "code",
      "metadata": {
        "id": "b9mEzIW-HgVD"
      },
      "source": [
        "mds = MDS(n_components=2)"
      ],
      "execution_count": 69,
      "outputs": []
    },
    {
      "cell_type": "code",
      "metadata": {
        "id": "l2y_PikpH1U4"
      },
      "source": [
        "new_mds = mds.fit_transform(new_data)"
      ],
      "execution_count": 70,
      "outputs": []
    },
    {
      "cell_type": "code",
      "metadata": {
        "id": "N_fVzj7wICqR"
      },
      "source": [
        "kmeans_2 = KMeans(n_clusters=3,random_state=2021)\n",
        "kmeans_2.fit(new_data)\n",
        "g = kmeans_2.predict(new_data)"
      ],
      "execution_count": 71,
      "outputs": []
    },
    {
      "cell_type": "code",
      "metadata": {
        "id": "yfgGnenkIV_o",
        "colab": {
          "base_uri": "https://localhost:8080/",
          "height": 295
        },
        "outputId": "71d8bb34-3c63-486c-af38-ba336cc05c22"
      },
      "source": [
        "plt.scatter(new_mds[:,0],new_mds[:,1],c=g,alpha=0.7)\n",
        "plt.title('DataGenerator') \n",
        "plt.xlabel('X') \n",
        "plt.ylabel('Y');"
      ],
      "execution_count": 72,
      "outputs": [
        {
          "output_type": "display_data",
          "data": {
            "image/png": "[encoded data removed]",
            "text/plain": [
              "<Figure size 432x288 with 1 Axes>"
            ]
          },
          "metadata": {
            "tags": [],
            "needs_background": "light"
          }
        }
      ]
    }
  ]
}